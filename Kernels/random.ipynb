{
 "cells": [
  {
   "cell_type": "code",
   "id": "initial_id",
   "metadata": {
    "collapsed": true,
    "ExecuteTime": {
     "end_time": "2025-05-11T19:13:56.204092Z",
     "start_time": "2025-05-11T19:13:55.661374Z"
    }
   },
   "source": [
    "import numpy as np\n",
    "from cvxopt import matrix, solvers\n",
    "# Covariance matrix\n",
    "P = matrix([[0.1, 0.05],\n",
    "[0.05, 0.2]])\n",
    "# No linear term in the objective\n",
    "q = matrix([0.0, 0.0])\n",
    "# Constraints: Gx <= h for x1 >= 0, x2 >= 0\n",
    "G = matrix([[-1.0, 0.0],\n",
    "[0.0, -1.0]])\n",
    "h = matrix([0.0, 0.0])\n",
    "# Constraint: Ax = b for x1 + x2 = 1\n",
    "A = matrix([[1.0], [1.0]]) # Note: A must have size (2, 1)\n",
    "b = matrix([1.0])\n",
    "# Solve the quadratic program\n",
    "solution = solvers.qp(P, q, G, h, A, b)\n",
    "# Extract and display solution\n",
    "x = np.array(solution['x']).flatten()\n",
    "print(\"Optimal portfolio allocation:\", x)"
   ],
   "outputs": [
    {
     "name": "stdout",
     "output_type": "stream",
     "text": [
      "     pcost       dcost       gap    pres   dres\n",
      " 0:  4.8915e-02 -9.7278e-01  1e+00  6e-17  2e+00\n",
      " 1:  4.8045e-02  1.9093e-02  3e-02  6e-17  6e-02\n",
      " 2:  4.3933e-02  4.1156e-02  3e-03  1e-16  9e-18\n",
      " 3:  4.3750e-02  4.3676e-02  7e-05  6e-17  2e-17\n",
      " 4:  4.3750e-02  4.3749e-02  7e-07  1e-16  4e-18\n",
      " 5:  4.3750e-02  4.3750e-02  7e-09  0e+00  5e-18\n",
      "Optimal solution found.\n",
      "Optimal portfolio allocation: [0.74999986 0.25000014]\n"
     ]
    }
   ],
   "execution_count": 1
  }
 ],
 "metadata": {
  "kernelspec": {
   "display_name": "Python 3",
   "language": "python",
   "name": "python3"
  },
  "language_info": {
   "codemirror_mode": {
    "name": "ipython",
    "version": 2
   },
   "file_extension": ".py",
   "mimetype": "text/x-python",
   "name": "python",
   "nbconvert_exporter": "python",
   "pygments_lexer": "ipython2",
   "version": "2.7.6"
  }
 },
 "nbformat": 4,
 "nbformat_minor": 5
}
