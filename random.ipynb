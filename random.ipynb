{
 "cells": [
  {
   "cell_type": "code",
   "id": "initial_id",
   "metadata": {
    "collapsed": true,
    "ExecuteTime": {
     "end_time": "2025-03-01T13:53:45.076038Z",
     "start_time": "2025-03-01T13:53:38.363017Z"
    }
   },
   "source": [
    "import torch\n",
    "print(\"CUDA Available:\", torch.cuda.is_available())\n",
    "print(\"GPU Name:\", torch.cuda.get_device_name(0) if torch.cuda.is_available() else \"No GPU found\")"
   ],
   "outputs": [
    {
     "name": "stdout",
     "output_type": "stream",
     "text": [
      "CUDA Available: True\n",
      "GPU Name: NVIDIA GeForce RTX 4060 Laptop GPU\n"
     ]
    }
   ],
   "execution_count": 1
  },
  {
   "metadata": {
    "ExecuteTime": {
     "end_time": "2025-03-01T13:57:52.150491Z",
     "start_time": "2025-03-01T13:57:48.092277Z"
    }
   },
   "cell_type": "code",
   "source": [
    "# import tensorflow as tf\n",
    "# print(\"Num GPUs Available:\", len(tf.config.experimental.list_physical_devices('GPU')))"
   ],
   "id": "b947e1d625f75c72",
   "outputs": [
    {
     "name": "stdout",
     "output_type": "stream",
     "text": [
      "Num GPUs Available: 0\n"
     ]
    }
   ],
   "execution_count": 2
  },
  {
   "metadata": {
    "ExecuteTime": {
     "end_time": "2025-03-23T14:15:06.190183Z",
     "start_time": "2025-03-23T14:15:03.965458Z"
    }
   },
   "cell_type": "code",
   "source": [
    "from sklearn.model_selection import KFold\n",
    "import numpy as np\n",
    "\n",
    "# Example dataset\n",
    "X = np.array([[1, 2], [3, 4], [5, 6], [7, 8], [9, 10]])\n",
    "y = np.array([0, 1, 0, 1, 0])\n",
    "\n",
    "# Create KFold object\n",
    "cv = KFold(n_splits=5, shuffle=True, random_state=42)\n",
    "\n",
    "# Iterate over the folds\n",
    "for fold, (train_idx, test_idx) in enumerate(cv.split(X)):\n",
    "    print(f\"Fold {fold + 1}:\")\n",
    "    print(f\"  Training indices: {train_idx}\")\n",
    "    print(f\"  Test indices: {test_idx}\")"
   ],
   "id": "64ef8ea7f1777383",
   "outputs": [
    {
     "name": "stdout",
     "output_type": "stream",
     "text": [
      "Fold 1:\n",
      "  Training indices: [0 2 3 4]\n",
      "  Test indices: [1]\n",
      "Fold 2:\n",
      "  Training indices: [0 1 2 3]\n",
      "  Test indices: [4]\n",
      "Fold 3:\n",
      "  Training indices: [0 1 3 4]\n",
      "  Test indices: [2]\n",
      "Fold 4:\n",
      "  Training indices: [1 2 3 4]\n",
      "  Test indices: [0]\n",
      "Fold 5:\n",
      "  Training indices: [0 1 2 4]\n",
      "  Test indices: [3]\n"
     ]
    }
   ],
   "execution_count": 1
  }
 ],
 "metadata": {
  "kernelspec": {
   "display_name": "Python 3",
   "language": "python",
   "name": "python3"
  },
  "language_info": {
   "codemirror_mode": {
    "name": "ipython",
    "version": 2
   },
   "file_extension": ".py",
   "mimetype": "text/x-python",
   "name": "python",
   "nbconvert_exporter": "python",
   "pygments_lexer": "ipython2",
   "version": "2.7.6"
  }
 },
 "nbformat": 4,
 "nbformat_minor": 5
}
