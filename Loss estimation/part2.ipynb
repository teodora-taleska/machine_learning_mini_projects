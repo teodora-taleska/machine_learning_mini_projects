{
 "cells": [
  {
   "metadata": {},
   "cell_type": "markdown",
   "source": [
    "# Model Evaluation\n",
    "Part 2"
   ],
   "id": "1c1b76ab804c0f57"
  },
  {
   "cell_type": "code",
   "id": "initial_id",
   "metadata": {
    "collapsed": true,
    "ExecuteTime": {
     "end_time": "2025-03-20T16:58:39.224950Z",
     "start_time": "2025-03-20T16:58:35.793318Z"
    }
   },
   "source": [
    "import pandas as pd\n",
    "import numpy as np"
   ],
   "outputs": [],
   "execution_count": 2
  },
  {
   "metadata": {
    "ExecuteTime": {
     "end_time": "2025-03-20T16:58:39.256648Z",
     "start_time": "2025-03-20T16:58:39.235751Z"
    }
   },
   "cell_type": "code",
   "source": [
    "file_path = 'data/dataset.csv'\n",
    "df = pd.read_csv(file_path, sep=';', header=0)"
   ],
   "id": "953ebe1426208b96",
   "outputs": [],
   "execution_count": 3
  },
  {
   "metadata": {
    "ExecuteTime": {
     "end_time": "2025-03-20T16:58:54.664784Z",
     "start_time": "2025-03-20T16:58:54.647914Z"
    }
   },
   "cell_type": "code",
   "source": [
    "unique_competitions = df['Competition'].unique()\n",
    "print(\"Unique Competition classes:\", unique_competitions)\n",
    "competition_counts = df['Competition'].value_counts()\n",
    "print(\"Distribution of Competition classes:\")\n",
    "print(competition_counts)"
   ],
   "id": "b884c72ead449063",
   "outputs": [
    {
     "name": "stdout",
     "output_type": "stream",
     "text": [
      "Unique Competition classes: ['U14' 'U16' 'NBA' 'SLO1' 'EURO']\n",
      "Distribution of Competition classes:\n",
      "Competition\n",
      "EURO    1371\n",
      "NBA     1228\n",
      "SLO1    1182\n",
      "U14      738\n",
      "U16      505\n",
      "Name: count, dtype: int64\n"
     ]
    }
   ],
   "execution_count": 4
  },
  {
   "metadata": {},
   "cell_type": "markdown",
   "source": "### Results from part 1",
   "id": "1840c255a0a95dcb"
  },
  {
   "metadata": {},
   "cell_type": "code",
   "outputs": [],
   "execution_count": null,
   "source": "# The cross-validated accuracy and log-loss results are estimates of the empirical risk for each model. These are based on the observed data distribution.\n",
   "id": "df6bc34494795762"
  },
  {
   "metadata": {},
   "cell_type": "markdown",
   "source": [
    "### First, we suspect that error depends on Distance. \n",
    "Provide further results that confirm (or disprove) our suspicions. Describe and motivate your methodology."
   ],
   "id": "d3af5c14e18d027a"
  },
  {
   "metadata": {},
   "cell_type": "code",
   "outputs": [],
   "execution_count": null,
   "source": "# Q: Are the prediction errors correlated with the Distance feature? Do models make more errors from certain distances?\n",
   "id": "4344b2d89a054294"
  },
  {
   "metadata": {},
   "cell_type": "markdown",
   "source": [
    "### Second, it turns out that the dataset is not entirely representative of the data generating process.\n",
    "The difference is that the true relative frequencies of Competition types are 0.6 for\n",
    "NBA and 0.1 for the other four types (instead of the approximately equal representation of\n",
    "types in the given dataset). Estimate how the models would perform on data with the true\n",
    "relative frequencies of Competition type. Report the results and your interpretation. Describe\n",
    "and motivate your methodology."
   ],
   "id": "4c025e8c30eb27f9"
  },
  {
   "metadata": {},
   "cell_type": "code",
   "outputs": [],
   "execution_count": null,
   "source": [
    "# Q: How would the models perform on data with the true relative frequencies of Competition type?\n",
    "# TODO: Estimate how the models would perform on data with the true relative frequencies of Competition type.\n"
   ],
   "id": "cd923636bb598e39"
  }
 ],
 "metadata": {
  "kernelspec": {
   "display_name": "Python 3",
   "language": "python",
   "name": "python3"
  },
  "language_info": {
   "codemirror_mode": {
    "name": "ipython",
    "version": 2
   },
   "file_extension": ".py",
   "mimetype": "text/x-python",
   "name": "python",
   "nbconvert_exporter": "python",
   "pygments_lexer": "ipython2",
   "version": "2.7.6"
  }
 },
 "nbformat": 4,
 "nbformat_minor": 5
}
