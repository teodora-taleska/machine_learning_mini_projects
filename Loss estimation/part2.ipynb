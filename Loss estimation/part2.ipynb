{
 "cells": [
  {
   "metadata": {},
   "cell_type": "markdown",
   "source": [
    "# Model Evaluation\n",
    "Part 2"
   ],
   "id": "1c1b76ab804c0f57"
  },
  {
   "cell_type": "code",
   "id": "initial_id",
   "metadata": {
    "collapsed": true,
    "ExecuteTime": {
     "end_time": "2025-03-20T16:58:39.224950Z",
     "start_time": "2025-03-20T16:58:35.793318Z"
    }
   },
   "source": [
    "import pandas as pd\n",
    "import numpy as np"
   ],
   "outputs": [],
   "execution_count": 2
  },
  {
   "metadata": {
    "ExecuteTime": {
     "end_time": "2025-03-20T16:58:39.256648Z",
     "start_time": "2025-03-20T16:58:39.235751Z"
    }
   },
   "cell_type": "code",
   "source": [
    "file_path = 'data/dataset.csv'\n",
    "df = pd.read_csv(file_path, sep=';', header=0)"
   ],
   "id": "953ebe1426208b96",
   "outputs": [],
   "execution_count": 3
  },
  {
   "metadata": {
    "ExecuteTime": {
     "end_time": "2025-03-20T16:58:54.664784Z",
     "start_time": "2025-03-20T16:58:54.647914Z"
    }
   },
   "cell_type": "code",
   "source": [
    "unique_competitions = df['Competition'].unique()\n",
    "print(\"Unique Competition classes:\", unique_competitions)\n",
    "competition_counts = df['Competition'].value_counts()\n",
    "print(\"Distribution of Competition classes:\")\n",
    "print(competition_counts)"
   ],
   "id": "b884c72ead449063",
   "outputs": [
    {
     "name": "stdout",
     "output_type": "stream",
     "text": [
      "Unique Competition classes: ['U14' 'U16' 'NBA' 'SLO1' 'EURO']\n",
      "Distribution of Competition classes:\n",
      "Competition\n",
      "EURO    1371\n",
      "NBA     1228\n",
      "SLO1    1182\n",
      "U14      738\n",
      "U16      505\n",
      "Name: count, dtype: int64\n"
     ]
    }
   ],
   "execution_count": 4
  }
 ],
 "metadata": {
  "kernelspec": {
   "display_name": "Python 3",
   "language": "python",
   "name": "python3"
  },
  "language_info": {
   "codemirror_mode": {
    "name": "ipython",
    "version": 2
   },
   "file_extension": ".py",
   "mimetype": "text/x-python",
   "name": "python",
   "nbconvert_exporter": "python",
   "pygments_lexer": "ipython2",
   "version": "2.7.6"
  }
 },
 "nbformat": 4,
 "nbformat_minor": 5
}
