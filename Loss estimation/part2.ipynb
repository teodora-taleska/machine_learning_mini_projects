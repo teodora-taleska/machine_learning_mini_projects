{
 "cells": [
  {
   "metadata": {},
   "cell_type": "markdown",
   "source": [
    "# Model Evaluation\n",
    "Part 2"
   ],
   "id": "1c1b76ab804c0f57"
  },
  {
   "cell_type": "code",
   "id": "initial_id",
   "metadata": {
    "collapsed": true,
    "ExecuteTime": {
     "end_time": "2025-03-22T13:46:49.165078Z",
     "start_time": "2025-03-22T13:46:48.515370Z"
    }
   },
   "source": [
    "import pandas as pd\n",
    "import numpy as np\n",
    "import pickle\n",
    "import matplotlib.pyplot as plt\n",
    "from scipy.stats import spearmanr\n",
    "import pingouin as pg\n",
    "from scipy.stats import zscore"
   ],
   "outputs": [],
   "execution_count": 83
  },
  {
   "metadata": {
    "ExecuteTime": {
     "end_time": "2025-03-22T13:34:38.209248Z",
     "start_time": "2025-03-22T13:34:38.111615Z"
    }
   },
   "cell_type": "code",
   "source": [
    "file_path = 'data/dataset.csv'\n",
    "df = pd.read_csv(file_path, sep=';', header=0)"
   ],
   "id": "953ebe1426208b96",
   "outputs": [],
   "execution_count": 72
  },
  {
   "metadata": {
    "ExecuteTime": {
     "end_time": "2025-03-22T13:34:39.396688Z",
     "start_time": "2025-03-22T13:34:39.335373Z"
    }
   },
   "cell_type": "code",
   "source": [
    "unique_competitions = df['Competition'].unique()\n",
    "print(\"Unique Competition classes:\", unique_competitions)\n",
    "competition_counts = df['Competition'].value_counts()\n",
    "print(\"Distribution of Competition classes:\")\n",
    "print(competition_counts)"
   ],
   "id": "b884c72ead449063",
   "outputs": [
    {
     "name": "stdout",
     "output_type": "stream",
     "text": [
      "Unique Competition classes: ['U14' 'U16' 'NBA' 'SLO1' 'EURO']\n",
      "Distribution of Competition classes:\n",
      "Competition\n",
      "EURO    1371\n",
      "NBA     1228\n",
      "SLO1    1182\n",
      "U14      738\n",
      "U16      505\n",
      "Name: count, dtype: int64\n"
     ]
    }
   ],
   "execution_count": 73
  },
  {
   "metadata": {},
   "cell_type": "markdown",
   "source": "### Results from part 1",
   "id": "1840c255a0a95dcb"
  },
  {
   "metadata": {
    "ExecuteTime": {
     "end_time": "2025-03-22T13:34:43.912245Z",
     "start_time": "2025-03-22T13:34:43.870223Z"
    }
   },
   "cell_type": "code",
   "source": [
    "# The cross-validated accuracy and log-loss results are estimates of the empirical risk for each model. These are based on the observed data distribution.\n",
    "\n",
    "with open('all_model_results.pkl', 'rb') as f:\n",
    "    data = pickle.load(f)"
   ],
   "id": "df6bc34494795762",
   "outputs": [],
   "execution_count": 74
  },
  {
   "metadata": {
    "ExecuteTime": {
     "end_time": "2025-03-22T13:34:44.894956Z",
     "start_time": "2025-03-22T13:34:44.879106Z"
    }
   },
   "cell_type": "code",
   "source": [
    "y_true = data['y_true']\n",
    "y_pred_baseline = data['y_pred_baseline']\n",
    "y_pred_lr = data['y_pred_lr']\n",
    "y_pred_rf1 = data['y_pred_rf1']\n",
    "y_pred_rf2 = data['y_pred_rf2']\n",
    "distance_test = df.loc[data['test_indices'], 'Distance'].values\n",
    "distances = df['Distance'].values"
   ],
   "id": "c50be623879d3336",
   "outputs": [],
   "execution_count": 75
  },
  {
   "metadata": {},
   "cell_type": "markdown",
   "source": [
    "\n",
    "## Statistical Analysis"
   ],
   "id": "b6e632ee85660ea6"
  },
  {
   "metadata": {
    "ExecuteTime": {
     "end_time": "2025-03-22T13:52:30.600484Z",
     "start_time": "2025-03-22T13:52:29.602040Z"
    }
   },
   "cell_type": "code",
   "source": [
    "# Q: Is the data normally distributed?\n",
    "\n",
    "numerical_data = df.select_dtypes(include=['float64', 'int64'])\n",
    "\n",
    "# Standardize\n",
    "numerical_data = numerical_data.apply(zscore)\n",
    "\n",
    "# Henze-Zirkler (HZ) Test for numerical features\n",
    "hz_test = pg.multivariate_normality(numerical_data)\n",
    "print(\"Henze-Zirkler Test:\\n\", hz_test)"
   ],
   "id": "de1dbca5188dc8d",
   "outputs": [
    {
     "name": "stdout",
     "output_type": "stream",
     "text": [
      "Henze-Zirkler Test:\n",
      " HZResults(hz=239.51118142608158, pval=0.0, normal=False)\n"
     ]
    }
   ],
   "execution_count": 86
  },
  {
   "metadata": {},
   "cell_type": "markdown",
   "source": [
    "### First, we suspect that error depends on Distance. \n",
    "Provide further results that confirm (or disprove) our suspicions. Describe and motivate your methodology."
   ],
   "id": "d3af5c14e18d027a"
  },
  {
   "metadata": {
    "ExecuteTime": {
     "end_time": "2025-03-22T11:38:27.029949Z",
     "start_time": "2025-03-22T11:38:27.025364Z"
    }
   },
   "cell_type": "code",
   "source": [
    "# Q: Are the prediction errors correlated with the Distance feature? Do models make more errors from certain distances?\n",
    "\n",
    "# Step 1: Get the errors\n",
    "errors_baseline = data['errors_baseline']\n",
    "errors_lr = data['errors_lr']\n",
    "errors_rf1 = data['errors_rf1']\n",
    "errors_rf2 = data['errors_rf2']"
   ],
   "id": "4344b2d89a054294",
   "outputs": [],
   "execution_count": 6
  },
  {
   "metadata": {},
   "cell_type": "markdown",
   "source": "#### Bin the Distance Values",
   "id": "9ed50d362ec721c3"
  },
  {
   "metadata": {
    "ExecuteTime": {
     "end_time": "2025-03-22T11:57:28.794066Z",
     "start_time": "2025-03-22T11:57:28.773228Z"
    }
   },
   "cell_type": "code",
   "source": [
    "min_distance = distances.min()\n",
    "max_distance = distances.max()\n",
    "bins = np.linspace(min_distance, max_distance, num=7)  # creates 7 equally spaced values between min and max => 6 bins\n",
    "print(\"Bins:\", bins)\n",
    "bin_labels = [f'{int(bins[i])}-{int(bins[i+1])}' for i in range(len(bins)-1)]\n",
    "print(\"Bin Labels:\", bin_labels)\n",
    "# Bin the distance values\n",
    "distance_bins = pd.cut(distances, bins=bins, labels=bin_labels) # returns a Categorical object -> replaces each distance value with the corresponding bin label"
   ],
   "id": "e50de80fb3f9b662",
   "outputs": [
    {
     "name": "stdout",
     "output_type": "stream",
     "text": [
      "Bins: [0.04       1.69166667 3.34333333 4.995      6.64666667 8.29833333\n",
      " 9.95      ]\n",
      "Bin Labels: ['0-1', '1-3', '3-4', '4-6', '6-8', '8-9']\n"
     ]
    }
   ],
   "execution_count": 23
  },
  {
   "metadata": {
    "ExecuteTime": {
     "end_time": "2025-03-22T12:00:45.741853Z",
     "start_time": "2025-03-22T12:00:45.735483Z"
    }
   },
   "cell_type": "code",
   "source": [
    "# Get the percentage of each bin in distance_bins\n",
    "distance_bin_percentages = distance_bins.value_counts() / len(distance_bins) * 100\n",
    "print(\"Distance Bin Percentages:\\n\", distance_bin_percentages)"
   ],
   "id": "ce20f409f9fd1fd1",
   "outputs": [
    {
     "name": "stdout",
     "output_type": "stream",
     "text": [
      "Distance Bin Percentages:\n",
      " 0-1    36.863057\n",
      "1-3    12.977707\n",
      "3-4     8.240446\n",
      "4-6    11.285828\n",
      "6-8    29.996019\n",
      "8-9     0.617038\n",
      "Name: count, dtype: float64\n"
     ]
    }
   ],
   "execution_count": 34
  },
  {
   "metadata": {},
   "cell_type": "markdown",
   "source": "#### Calculate the Error Rates",
   "id": "6b0f64b6e2a2cc91"
  },
  {
   "metadata": {
    "ExecuteTime": {
     "end_time": "2025-03-22T12:23:11.162208Z",
     "start_time": "2025-03-22T12:23:11.140201Z"
    }
   },
   "cell_type": "code",
   "source": [
    "distance_bins_test = pd.cut(distance_test, bins=bins, labels=bin_labels)\n",
    "print(\"Distance Bins (Test Set):\")\n",
    "distance_bin_tsp = distance_bins_test.value_counts() / len(distance_bins_test) * 100\n",
    "print(distance_bin_tsp)"
   ],
   "id": "2b7f37e88646fbe9",
   "outputs": [
    {
     "name": "stdout",
     "output_type": "stream",
     "text": [
      "Distance Bins (Test Set):\n",
      "0-1    37.135279\n",
      "1-3    14.588859\n",
      "3-4     8.222812\n",
      "4-6    10.610080\n",
      "6-8    28.912467\n",
      "8-9     0.530504\n",
      "Name: count, dtype: float64\n"
     ]
    }
   ],
   "execution_count": 65
  },
  {
   "metadata": {
    "ExecuteTime": {
     "end_time": "2025-03-22T12:24:28.933357Z",
     "start_time": "2025-03-22T12:24:28.903226Z"
    }
   },
   "cell_type": "code",
   "source": [
    "import pandas as pd\n",
    "\n",
    "def calculate_misclassification_rate(y_true, y_pred, distance_bins):\n",
    "    df = pd.DataFrame({'y_true': y_true, 'y_pred': y_pred, 'distance_bins': distance_bins})\n",
    "    # determine the average proportion of incorrect predictions within each distance bin\n",
    "    misclassification_rate = df.groupby('distance_bins', observed=True).apply(lambda x: (x['y_true'] != x['y_pred']).mean())\n",
    "    return misclassification_rate\n",
    "\n",
    "# Calculate misclassification rates for each model\n",
    "misclassification_rate_baseline = calculate_misclassification_rate(y_true, y_pred_baseline, distance_bins_test)\n",
    "misclassification_rate_lr = calculate_misclassification_rate(y_true, y_pred_lr, distance_bins_test)\n",
    "misclassification_rate_rf1 = calculate_misclassification_rate(y_true, y_pred_rf1, distance_bins_test)\n",
    "misclassification_rate_rf2 = calculate_misclassification_rate(y_true, y_pred_rf2, distance_bins_test)\n",
    "\n",
    "# Calculate error rates - These rates provide a weighted measure of misclassification, considering the distribution of data points across distance bins. This helps in understanding the overall impact of distance on model performance.\n",
    "error_rates_baseline = misclassification_rate_baseline * distance_bin_tsp\n",
    "error_rates_lr = misclassification_rate_lr * distance_bin_tsp\n",
    "error_rates_rf1 = misclassification_rate_rf1 * distance_bin_tsp\n",
    "error_rates_rf2 = misclassification_rate_rf2 * distance_bin_tsp\n",
    "\n",
    "# Print the error rates\n",
    "print(\"Error Rates (Baseline):\")\n",
    "print(error_rates_baseline)\n",
    "print(\"Error Rates (Logistic Regression):\")\n",
    "print(error_rates_lr)\n",
    "print(\"Error Rates (Random Forest 1):\")\n",
    "print(error_rates_rf1)\n",
    "print(\"Error Rates (Random Forest 2):\")\n",
    "print(error_rates_rf2)"
   ],
   "id": "c5e750d9086f3f52",
   "outputs": [
    {
     "name": "stdout",
     "output_type": "stream",
     "text": [
      "Error Rates (Baseline):\n",
      "distance_bins\n",
      "0-1    29.509284\n",
      "1-3     7.360743\n",
      "3-4     1.061008\n",
      "4-6     0.331565\n",
      "6-8     1.657825\n",
      "8-9     0.066313\n",
      "dtype: float64\n",
      "Error Rates (Logistic Regression):\n",
      "distance_bins\n",
      "0-1    16.511936\n",
      "1-3     6.233422\n",
      "3-4     0.928382\n",
      "4-6     0.331565\n",
      "6-8     1.657825\n",
      "8-9     0.066313\n",
      "dtype: float64\n",
      "Error Rates (Random Forest 1):\n",
      "distance_bins\n",
      "0-1    15.848806\n",
      "1-3     4.111406\n",
      "3-4     0.663130\n",
      "4-6     0.331565\n",
      "6-8     1.591512\n",
      "8-9     0.000000\n",
      "dtype: float64\n",
      "Error Rates (Random Forest 2):\n",
      "distance_bins\n",
      "0-1    15.649867\n",
      "1-3     4.111406\n",
      "3-4     0.663130\n",
      "4-6     0.331565\n",
      "6-8     1.591512\n",
      "8-9     0.000000\n",
      "dtype: float64\n"
     ]
    },
    {
     "name": "stderr",
     "output_type": "stream",
     "text": [
      "C:\\Users\\Teodora\\AppData\\Local\\Temp\\ipykernel_23792\\3362080020.py:5: DeprecationWarning: DataFrameGroupBy.apply operated on the grouping columns. This behavior is deprecated, and in a future version of pandas the grouping columns will be excluded from the operation. Either pass `include_groups=False` to exclude the groupings or explicitly select the grouping columns after groupby to silence this warning.\n",
      "  misclassification_rate = df.groupby('distance_bins', observed=True).apply(lambda x: (x['y_true'] != x['y_pred']).mean())\n",
      "C:\\Users\\Teodora\\AppData\\Local\\Temp\\ipykernel_23792\\3362080020.py:5: DeprecationWarning: DataFrameGroupBy.apply operated on the grouping columns. This behavior is deprecated, and in a future version of pandas the grouping columns will be excluded from the operation. Either pass `include_groups=False` to exclude the groupings or explicitly select the grouping columns after groupby to silence this warning.\n",
      "  misclassification_rate = df.groupby('distance_bins', observed=True).apply(lambda x: (x['y_true'] != x['y_pred']).mean())\n",
      "C:\\Users\\Teodora\\AppData\\Local\\Temp\\ipykernel_23792\\3362080020.py:5: DeprecationWarning: DataFrameGroupBy.apply operated on the grouping columns. This behavior is deprecated, and in a future version of pandas the grouping columns will be excluded from the operation. Either pass `include_groups=False` to exclude the groupings or explicitly select the grouping columns after groupby to silence this warning.\n",
      "  misclassification_rate = df.groupby('distance_bins', observed=True).apply(lambda x: (x['y_true'] != x['y_pred']).mean())\n",
      "C:\\Users\\Teodora\\AppData\\Local\\Temp\\ipykernel_23792\\3362080020.py:5: DeprecationWarning: DataFrameGroupBy.apply operated on the grouping columns. This behavior is deprecated, and in a future version of pandas the grouping columns will be excluded from the operation. Either pass `include_groups=False` to exclude the groupings or explicitly select the grouping columns after groupby to silence this warning.\n",
      "  misclassification_rate = df.groupby('distance_bins', observed=True).apply(lambda x: (x['y_true'] != x['y_pred']).mean())\n"
     ]
    }
   ],
   "execution_count": 68
  },
  {
   "metadata": {},
   "cell_type": "markdown",
   "source": "NOTE: Having an error rate of 29 for the distance bin 0-1, means that within this specific distance range, 29% of the predictions made by the model are incorrect. This indicates that the model has a relatively high misclassification rate for data points that fall within the 0-1 distance bin, suggesting that the model struggles to make accurate predictions for this particular range of distances",
   "id": "d7760c72cdef5152"
  },
  {
   "metadata": {},
   "cell_type": "markdown",
   "source": "#### Visualize the Relationship",
   "id": "fe8c888bc2ba7089"
  },
  {
   "metadata": {
    "ExecuteTime": {
     "end_time": "2025-03-22T12:27:25.012655Z",
     "start_time": "2025-03-22T12:27:24.858083Z"
    }
   },
   "cell_type": "code",
   "source": [
    "plt.figure(figsize=(10, 6))\n",
    "plt.plot(error_rates_baseline.index, error_rates_baseline, label='Baseline')\n",
    "plt.plot(error_rates_lr.index, error_rates_lr, label='Logistic Regression')\n",
    "plt.plot(error_rates_rf1.index, error_rates_rf1, label='Random Forest 1')\n",
    "plt.plot(error_rates_rf2.index, error_rates_rf2, label='Random Forest 2')\n",
    "plt.xlabel('Distance (feet)')\n",
    "plt.ylabel('Error Rate')\n",
    "plt.title('Error Rate vs. Distance')\n",
    "plt.legend()\n",
    "plt.grid(True)\n",
    "plt.show()"
   ],
   "id": "1b2e7ef485f5122f",
   "outputs": [
    {
     "data": {
      "text/plain": [
       "<Figure size 1000x600 with 1 Axes>"
      ],
      "image/png": "[encoded data removed]"
     },
     "metadata": {},
     "output_type": "display_data"
    }
   ],
   "execution_count": 69
  },
  {
   "metadata": {},
   "cell_type": "markdown",
   "source": [
    "#### Statistical Analysis\n",
    "Correlation Analysis"
   ],
   "id": "71f9ff945b1ee9cd"
  },
  {
   "metadata": {
    "ExecuteTime": {
     "end_time": "2025-03-22T14:01:51.537718Z",
     "start_time": "2025-03-22T14:01:51.522022Z"
    }
   },
   "cell_type": "code",
   "source": [
    "print(\"Baseline:\")\n",
    "spearman_corr, _ = spearmanr(errors_baseline, distance_test)\n",
    "print(f\"Spearman correlation: {spearman_corr}, p-value: {_}\")"
   ],
   "id": "1331d154e5b0d77e",
   "outputs": [
    {
     "name": "stdout",
     "output_type": "stream",
     "text": [
      "Baseline:\n",
      "Spearman correlation: -0.6583047995009514, p-value: 5.388770561405651e-188\n"
     ]
    }
   ],
   "execution_count": 91
  },
  {
   "metadata": {
    "ExecuteTime": {
     "end_time": "2025-03-22T14:01:53.140471Z",
     "start_time": "2025-03-22T14:01:53.123955Z"
    }
   },
   "cell_type": "code",
   "source": [
    "print(\"Logistic Regression:\")\n",
    "spearman_corr, _ = spearmanr(data[\"errors_lr\"], distance_test)\n",
    "print(f\"Spearman correlation: {spearman_corr}, p-value: {_}\")"
   ],
   "id": "84470291fd938790",
   "outputs": [
    {
     "name": "stdout",
     "output_type": "stream",
     "text": [
      "Logistic Regression:\n",
      "Spearman correlation: -0.36502479817937655, p-value: 9.670542889127037e-49\n"
     ]
    }
   ],
   "execution_count": 92
  },
  {
   "metadata": {
    "ExecuteTime": {
     "end_time": "2025-03-22T14:01:54.650447Z",
     "start_time": "2025-03-22T14:01:54.625898Z"
    }
   },
   "cell_type": "code",
   "source": [
    "print(\"Random Forest (Flat CV):\")\n",
    "spearman_corr, _ = spearmanr(data[\"errors_rf1\"], distance_test)\n",
    "print(f\"Spearman correlation: {spearman_corr}, p-value: {_}\")"
   ],
   "id": "44ba3d3843a46104",
   "outputs": [
    {
     "name": "stdout",
     "output_type": "stream",
     "text": [
      "Random Forest (Flat CV):\n",
      "Spearman correlation: -0.3511856164147009, p-value: 5.254284862712921e-45\n"
     ]
    }
   ],
   "execution_count": 93
  },
  {
   "metadata": {
    "ExecuteTime": {
     "end_time": "2025-03-22T14:01:56.395486Z",
     "start_time": "2025-03-22T14:01:56.378991Z"
    }
   },
   "cell_type": "code",
   "source": [
    "print(\"Random Forest (Nested CV):\")\n",
    "spearman_corr, _ = spearmanr(data[\"errors_rf2\"], distance_test)\n",
    "print(f\"Spearman correlation: {spearman_corr}, p-value: {_}\")"
   ],
   "id": "a4f536f5ff627102",
   "outputs": [
    {
     "name": "stdout",
     "output_type": "stream",
     "text": [
      "Random Forest (Nested CV):\n",
      "Spearman correlation: -0.34578041271710896, p-value: 1.3472934395539037e-43\n"
     ]
    }
   ],
   "execution_count": 94
  },
  {
   "metadata": {},
   "cell_type": "markdown",
   "source": [
    "### Second, it turns out that the dataset is not entirely representative of the data generating process.\n",
    "The difference is that the true relative frequencies of Competition types are 0.6 for\n",
    "NBA and 0.1 for the other four types (instead of the approximately equal representation of\n",
    "types in the given dataset). Estimate how the models would perform on data with the true\n",
    "relative frequencies of Competition type. Report the results and your interpretation. Describe\n",
    "and motivate your methodology."
   ],
   "id": "4c025e8c30eb27f9"
  },
  {
   "metadata": {},
   "cell_type": "code",
   "outputs": [],
   "execution_count": null,
   "source": [
    "# Q: How would the models perform on data with the true relative frequencies of Competition type?\n",
    "# TODO: Estimate how the models would perform on data with the true relative frequencies of Competition type.\n"
   ],
   "id": "cd923636bb598e39"
  },
  {
   "metadata": {},
   "cell_type": "markdown",
   "source": "#### Helper Functions",
   "id": "ba143c7ca66e0704"
  },
  {
   "metadata": {
    "ExecuteTime": {
     "end_time": "2025-03-22T14:28:13.936400Z",
     "start_time": "2025-03-22T14:28:13.912176Z"
    }
   },
   "cell_type": "code",
   "source": [
    "def log_loss(y_true, y_pred):\n",
    "    \"\"\"\n",
    "    Compute the log loss (logarithmic loss) for multiclass classification.\n",
    "\n",
    "    Parameters:\n",
    "    - y_true: True labels (integers representing classes).\n",
    "    - y_pred: Predicted probabilities for each class (2D array).\n",
    "\n",
    "    Returns:\n",
    "    - log_loss: The computed log loss.\n",
    "    \"\"\"\n",
    "    # clip predicted probabilities to avoid log(0) or log(1)\n",
    "    y_pred = np.clip(y_pred, 1e-10, 1 - 1e-10)\n",
    "    \n",
    "    # convert y_true to one-hot encoding\n",
    "    y_true_one_hot = np.eye(y_pred.shape[1])[y_true]\n",
    "    \n",
    "    loss = -np.mean(np.sum(y_true_one_hot * np.log(y_pred), axis=1))\n",
    "    \n",
    "    return loss\n",
    "\n",
    "def accuracy_score(y_true, y_pred):\n",
    "    \"\"\"\n",
    "    Compute the accuracy score for classification.\n",
    "\n",
    "    Parameters:\n",
    "    - y_true: True labels.\n",
    "    - y_pred: Predicted labels.\n",
    "\n",
    "    Returns:\n",
    "    - accuracy: The computed accuracy score.\n",
    "    \"\"\"\n",
    "    correct = np.sum(y_true == y_pred)\n",
    "    \n",
    "    accuracy = correct / len(y_true)\n",
    "    \n",
    "    return accuracy"
   ],
   "id": "7fb3c8f52b199137",
   "outputs": [],
   "execution_count": 101
  },
  {
   "metadata": {},
   "cell_type": "markdown",
   "source": [
    "#### Methodology: Re-weighting Errors\n",
    "Given that we have the model errors based on the assumed distribution, we can apply empirical risk minimization principles to adjust the errors according to the true distribution."
   ],
   "id": "14df0893b55083a1"
  },
  {
   "metadata": {
    "ExecuteTime": {
     "end_time": "2025-03-22T14:26:19.941716Z",
     "start_time": "2025-03-22T14:26:19.933578Z"
    }
   },
   "cell_type": "code",
   "source": [
    "competition_types = df.loc[data[\"test_indices\"], 'Competition']\n",
    "competition_types.value_counts()"
   ],
   "id": "1428635034a8c114",
   "outputs": [
    {
     "data": {
      "text/plain": [
       "Competition\n",
       "EURO    425\n",
       "NBA     354\n",
       "SLO1    331\n",
       "U14     242\n",
       "U16     156\n",
       "Name: count, dtype: int64"
      ]
     },
     "execution_count": 99,
     "metadata": {},
     "output_type": "execute_result"
    }
   ],
   "execution_count": 99
  },
  {
   "metadata": {
    "ExecuteTime": {
     "end_time": "2025-03-22T14:27:04.752981Z",
     "start_time": "2025-03-22T14:27:04.737434Z"
    }
   },
   "cell_type": "code",
   "source": [
    "weights = {\n",
    "    'NBA': 0.6,\n",
    "    'EURO': 0.1,\n",
    "    'SLO1': 0.1,\n",
    "    'U14': 0.1,\n",
    "    'U16': 0.1\n",
    "}\n",
    "weighted_metrics = {\n",
    "    'baseline': {'log_loss': 0, 'accuracy': 0},\n",
    "    'lr': {'log_loss': 0, 'accuracy': 0},\n",
    "    'rf1': {'log_loss': 0, 'accuracy': 0},\n",
    "    'rf2': {'log_loss': 0, 'accuracy': 0}\n",
    "}"
   ],
   "id": "75ec8a8f8ce45239",
   "outputs": [],
   "execution_count": 100
  },
  {
   "metadata": {
    "ExecuteTime": {
     "end_time": "2025-03-22T14:29:02.898593Z",
     "start_time": "2025-03-22T14:29:02.882698Z"
    }
   },
   "cell_type": "code",
   "source": [
    "def calculate_weighted_metrics(y_true, y_pred, y_pred_proba, competition_types, weights):\n",
    "    log_loss_total = 0\n",
    "    accuracy_total = 0\n",
    "    for comp_type, weight in weights.items():\n",
    "        comp_mask = (competition_types == comp_type)\n",
    "        if comp_mask.sum() > 0:  # Ensure there are samples for this Competition type\n",
    "            y_true_comp = y_true[comp_mask]\n",
    "            y_pred_comp = y_pred[comp_mask]\n",
    "            y_pred_proba_comp = y_pred_proba[comp_mask]\n",
    "            log_loss_comp = log_loss(y_true_comp, y_pred_proba_comp)\n",
    "            accuracy_comp = accuracy_score(y_true_comp, y_pred_comp)\n",
    "            log_loss_total += log_loss_comp * weight\n",
    "            accuracy_total += accuracy_comp * weight\n",
    "    return log_loss_total, accuracy_total"
   ],
   "id": "f8c69c6293e606aa",
   "outputs": [],
   "execution_count": 102
  },
  {
   "metadata": {
    "ExecuteTime": {
     "end_time": "2025-03-22T14:29:03.968132Z",
     "start_time": "2025-03-22T14:29:03.937131Z"
    }
   },
   "cell_type": "code",
   "source": [
    "weighted_metrics['baseline']['log_loss'], weighted_metrics['baseline']['accuracy'] = calculate_weighted_metrics(\n",
    "    data['y_true'], data['y_pred_baseline'], data['y_pred_proba_baseline'], competition_types, weights\n",
    ")\n",
    "\n",
    "weighted_metrics['lr']['log_loss'], weighted_metrics['lr']['accuracy'] = calculate_weighted_metrics(\n",
    "    data['y_true'], data['y_pred_lr'], data['y_pred_proba_lr'], competition_types, weights\n",
    ")\n",
    "\n",
    "weighted_metrics['rf1']['log_loss'], weighted_metrics['rf1']['accuracy'] = calculate_weighted_metrics(\n",
    "    data['y_true'], data['y_pred_rf1'], data['y_pred_proba_rf1'], competition_types, weights\n",
    ")\n",
    "\n",
    "weighted_metrics['rf2']['log_loss'], weighted_metrics['rf2']['accuracy'] = calculate_weighted_metrics(\n",
    "    data['y_true'], data['y_pred_rf2'], data['y_pred_proba_rf2'], competition_types, weights\n",
    ")"
   ],
   "id": "2cdd3da6b8aeefe5",
   "outputs": [],
   "execution_count": 103
  },
  {
   "metadata": {
    "ExecuteTime": {
     "end_time": "2025-03-22T14:29:05.906751Z",
     "start_time": "2025-03-22T14:29:05.898793Z"
    }
   },
   "cell_type": "code",
   "source": [
    "print(\"Weighted Metrics:\")\n",
    "for model, metrics in weighted_metrics.items():\n",
    "    print(f\"{model}: Log-Loss = {metrics['log_loss']:.4f}, Accuracy = {metrics['accuracy']:.4f}\")\n",
    "\n",
    "models = list(weighted_metrics.keys())\n",
    "log_loss_values = [weighted_metrics[model]['log_loss'] for model in models]\n",
    "accuracy_values = [weighted_metrics[model]['accuracy'] for model in models]"
   ],
   "id": "261d6269dc754182",
   "outputs": [
    {
     "name": "stdout",
     "output_type": "stream",
     "text": [
      "Weighted Metrics:\n",
      "baseline: Log-Loss = 1.1758, Accuracy = 0.6121\n",
      "lr: Log-Loss = 0.6667, Accuracy = 0.7405\n",
      "rf1: Log-Loss = 0.6298, Accuracy = 0.7698\n",
      "rf2: Log-Loss = 0.6210, Accuracy = 0.7684\n"
     ]
    }
   ],
   "execution_count": 104
  },
  {
   "metadata": {
    "ExecuteTime": {
     "end_time": "2025-03-22T14:47:04.971870Z",
     "start_time": "2025-03-22T14:47:04.618894Z"
    }
   },
   "cell_type": "code",
   "source": [
    "plt.rcParams.update({'font.size': 10, 'axes.titlesize': 12, 'axes.labelsize': 12, 'xtick.labelsize': 12, 'ytick.labelsize': 12, 'legend.fontsize': 10})\n",
    "\n",
    "models = ['Baseline', 'LR', 'RF (Flat CV)', 'RF (Nested CV)']\n",
    "accuracy = accuracy_values\n",
    "log_loss = [min(score, 2.5) for score in log_loss_values]\n",
    "\n",
    "x = np.arange(len(models))\n",
    "width = 0.35\n",
    "\n",
    "fig, ax = plt.subplots()\n",
    "rects1 = ax.bar(x - width/2, accuracy, width, label='Accuracy', color='lightblue')\n",
    "rects2 = ax.bar(x + width/2, log_loss, width, label='Log Loss', color='lightpink')\n",
    "\n",
    "ax.set_xlabel('Models')\n",
    "ax.set_ylabel('Score')\n",
    "ax.set_title('Model Comparison: Accuracy and Log Loss')\n",
    "ax.set_xticks(x)\n",
    "ax.set_xticklabels(models, ha='center')\n",
    "ax.legend()\n",
    "\n",
    "ax.set_ylim(0, 1.3)\n",
    "\n",
    "def autolabel(rects, original_values):\n",
    "    for rect, original_value in zip(rects, original_values):\n",
    "        height = rect.get_height()\n",
    "        label = '2.5+' if original_value > 2 else f'{round(height, 2)}'\n",
    "        ax.annotate(label,\n",
    "                    xy=(rect.get_x() + rect.get_width() / 2, height),\n",
    "                    xytext=(0, 3),  # 3 points vertical offset\n",
    "                    textcoords=\"offset points\",\n",
    "                    ha='center', va='bottom')\n",
    "\n",
    "autolabel(rects1, accuracy)\n",
    "autolabel(rects2, log_loss_values)\n",
    "\n",
    "plt.tight_layout()\n",
    "plt.savefig('visualizations/model_comparison_true_dist.png')\n",
    "plt.show()"
   ],
   "id": "a364091f7048625c",
   "outputs": [
    {
     "data": {
      "text/plain": [
       "<Figure size 640x480 with 1 Axes>"
      ],
      "image/png": "[encoded data removed]"
     },
     "metadata": {},
     "output_type": "display_data"
    }
   ],
   "execution_count": 127
  }
 ],
 "metadata": {
  "kernelspec": {
   "display_name": "Python 3",
   "language": "python",
   "name": "python3"
  },
  "language_info": {
   "codemirror_mode": {
    "name": "ipython",
    "version": 2
   },
   "file_extension": ".py",
   "mimetype": "text/x-python",
   "name": "python",
   "nbconvert_exporter": "python",
   "pygments_lexer": "ipython2",
   "version": "2.7.6"
  }
 },
 "nbformat": 4,
 "nbformat_minor": 5
}
