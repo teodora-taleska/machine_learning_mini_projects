{
 "cells": [
  {
   "metadata": {},
   "cell_type": "markdown",
   "source": [
    "# Model evaluation \n",
    "Part 1\n"
   ],
   "id": "5486b28aeafbdf16"
  },
  {
   "cell_type": "code",
   "id": "initial_id",
   "metadata": {
    "collapsed": true,
    "ExecuteTime": {
     "end_time": "2025-03-20T16:47:17.587767Z",
     "start_time": "2025-03-20T16:47:17.571761Z"
    }
   },
   "source": [
    "import pandas as pd\n",
    "import numpy as np\n",
    "from sklearn.dummy import DummyClassifier\n",
    "from sklearn.model_selection import train_test_split\n",
    "from sklearn.preprocessing import LabelEncoder\n",
    "from sklearn.linear_model import LogisticRegression\n",
    "from sklearn.model_selection import GridSearchCV, cross_val_score, KFold\n",
    "from sklearn.ensemble import RandomForestClassifier\n",
    "from itertools import product\n",
    "import matplotlib.pyplot as plt"
   ],
   "outputs": [],
   "execution_count": 92
  },
  {
   "metadata": {
    "ExecuteTime": {
     "end_time": "2025-03-20T16:47:17.769364Z",
     "start_time": "2025-03-20T16:47:17.751244Z"
    }
   },
   "cell_type": "code",
   "source": [
    "file_path = 'data/dataset.csv'\n",
    "df = pd.read_csv(file_path, sep=';', header=0)\n",
    "\n",
    "df.head()"
   ],
   "id": "7635bf82a8adac97",
   "outputs": [
    {
     "data": {
      "text/plain": [
       "     ShotType Competition PlayerType  Transition  TwoLegged Movement  Angle  \\\n",
       "0  above head         U14          F           1          1       no  73.83   \n",
       "1       layup         U14          F           0          1       no  28.13   \n",
       "2  above head         U14          F           0          1       no  51.88   \n",
       "3  above head         U14          F           1          1       no  80.84   \n",
       "4  above head         U14          F           0          1       no  30.89   \n",
       "\n",
       "   Distance  \n",
       "0      0.73  \n",
       "1      1.02  \n",
       "2      7.22  \n",
       "3      3.64  \n",
       "4      7.20  "
      ],
      "text/html": [
       "<div>\n",
       "<style scoped>\n",
       "    .dataframe tbody tr th:only-of-type {\n",
       "        vertical-align: middle;\n",
       "    }\n",
       "\n",
       "    .dataframe tbody tr th {\n",
       "        vertical-align: top;\n",
       "    }\n",
       "\n",
       "    .dataframe thead th {\n",
       "        text-align: right;\n",
       "    }\n",
       "</style>\n",
       "<table border=\"1\" class=\"dataframe\">\n",
       "  <thead>\n",
       "    <tr style=\"text-align: right;\">\n",
       "      <th></th>\n",
       "      <th>ShotType</th>\n",
       "      <th>Competition</th>\n",
       "      <th>PlayerType</th>\n",
       "      <th>Transition</th>\n",
       "      <th>TwoLegged</th>\n",
       "      <th>Movement</th>\n",
       "      <th>Angle</th>\n",
       "      <th>Distance</th>\n",
       "    </tr>\n",
       "  </thead>\n",
       "  <tbody>\n",
       "    <tr>\n",
       "      <th>0</th>\n",
       "      <td>above head</td>\n",
       "      <td>U14</td>\n",
       "      <td>F</td>\n",
       "      <td>1</td>\n",
       "      <td>1</td>\n",
       "      <td>no</td>\n",
       "      <td>73.83</td>\n",
       "      <td>0.73</td>\n",
       "    </tr>\n",
       "    <tr>\n",
       "      <th>1</th>\n",
       "      <td>layup</td>\n",
       "      <td>U14</td>\n",
       "      <td>F</td>\n",
       "      <td>0</td>\n",
       "      <td>1</td>\n",
       "      <td>no</td>\n",
       "      <td>28.13</td>\n",
       "      <td>1.02</td>\n",
       "    </tr>\n",
       "    <tr>\n",
       "      <th>2</th>\n",
       "      <td>above head</td>\n",
       "      <td>U14</td>\n",
       "      <td>F</td>\n",
       "      <td>0</td>\n",
       "      <td>1</td>\n",
       "      <td>no</td>\n",
       "      <td>51.88</td>\n",
       "      <td>7.22</td>\n",
       "    </tr>\n",
       "    <tr>\n",
       "      <th>3</th>\n",
       "      <td>above head</td>\n",
       "      <td>U14</td>\n",
       "      <td>F</td>\n",
       "      <td>1</td>\n",
       "      <td>1</td>\n",
       "      <td>no</td>\n",
       "      <td>80.84</td>\n",
       "      <td>3.64</td>\n",
       "    </tr>\n",
       "    <tr>\n",
       "      <th>4</th>\n",
       "      <td>above head</td>\n",
       "      <td>U14</td>\n",
       "      <td>F</td>\n",
       "      <td>0</td>\n",
       "      <td>1</td>\n",
       "      <td>no</td>\n",
       "      <td>30.89</td>\n",
       "      <td>7.20</td>\n",
       "    </tr>\n",
       "  </tbody>\n",
       "</table>\n",
       "</div>"
      ]
     },
     "execution_count": 93,
     "metadata": {},
     "output_type": "execute_result"
    }
   ],
   "execution_count": 93
  },
  {
   "metadata": {
    "ExecuteTime": {
     "end_time": "2025-03-20T16:47:17.997485Z",
     "start_time": "2025-03-20T16:47:17.979965Z"
    }
   },
   "cell_type": "code",
   "source": [
    "null_counts = df.isnull().sum()\n",
    "print(null_counts)"
   ],
   "id": "644d3b341d1aeb06",
   "outputs": [
    {
     "name": "stdout",
     "output_type": "stream",
     "text": [
      "ShotType       0\n",
      "Competition    0\n",
      "PlayerType     0\n",
      "Transition     0\n",
      "TwoLegged      0\n",
      "Movement       0\n",
      "Angle          0\n",
      "Distance       0\n",
      "dtype: int64\n"
     ]
    }
   ],
   "execution_count": 94
  },
  {
   "metadata": {
    "ExecuteTime": {
     "end_time": "2025-03-20T16:47:18.197730Z",
     "start_time": "2025-03-20T16:47:18.181193Z"
    }
   },
   "cell_type": "code",
   "source": [
    "categorical_columns = df.select_dtypes(include=['object']).columns\n",
    "unique_classes = df[categorical_columns].nunique()\n",
    "print(\"Number of unique classes in each categorical column:\")\n",
    "print(unique_classes)"
   ],
   "id": "db7cdfb4c89626bc",
   "outputs": [
    {
     "name": "stdout",
     "output_type": "stream",
     "text": [
      "Number of unique classes in each categorical column:\n",
      "ShotType       6\n",
      "Competition    5\n",
      "PlayerType     3\n",
      "Movement       3\n",
      "dtype: int64\n"
     ]
    }
   ],
   "execution_count": 95
  },
  {
   "metadata": {
    "ExecuteTime": {
     "end_time": "2025-03-20T16:47:18.352370Z",
     "start_time": "2025-03-20T16:47:18.340783Z"
    }
   },
   "cell_type": "code",
   "source": [
    "categorical_columns = [\"Competition\", \"PlayerType\", \"Movement\"]\n",
    "df_encoded = pd.get_dummies(df, columns=categorical_columns, drop_first=True)"
   ],
   "id": "6b97d4d880b3bc37",
   "outputs": [],
   "execution_count": 96
  },
  {
   "metadata": {
    "ExecuteTime": {
     "end_time": "2025-03-20T16:47:18.474535Z",
     "start_time": "2025-03-20T16:47:18.461138Z"
    }
   },
   "cell_type": "code",
   "source": [
    "y = df_encoded['ShotType']\n",
    "X = df_encoded.drop(columns=['ShotType'])\n",
    "X_train, X_test, y_train, y_test = train_test_split(X, y, test_size=0.3, random_state=42)"
   ],
   "id": "76c24758986d8fa0",
   "outputs": [],
   "execution_count": 97
  },
  {
   "metadata": {},
   "cell_type": "markdown",
   "source": "### Helper functions",
   "id": "4948694a366afcd6"
  },
  {
   "metadata": {
    "ExecuteTime": {
     "end_time": "2025-03-20T16:47:18.823608Z",
     "start_time": "2025-03-20T16:47:18.818112Z"
    }
   },
   "cell_type": "code",
   "source": [
    "def log_loss(y_true, y_pred):\n",
    "    \"\"\"\n",
    "    Compute the log loss (logarithmic loss) for multiclass classification.\n",
    "\n",
    "    Parameters:\n",
    "    - y_true: True labels (integers representing classes).\n",
    "    - y_pred: Predicted probabilities for each class (2D array).\n",
    "\n",
    "    Returns:\n",
    "    - log_loss: The computed log loss.\n",
    "    \"\"\"\n",
    "    # clip predicted probabilities to avoid log(0) or log(1)\n",
    "    y_pred = np.clip(y_pred, 1e-15, 1 - 1e-15)\n",
    "    \n",
    "    # convert y_true to one-hot encoding\n",
    "    y_true_one_hot = np.eye(y_pred.shape[1])[y_true]\n",
    "    \n",
    "    loss = -np.mean(np.sum(y_true_one_hot * np.log(y_pred), axis=1))\n",
    "    \n",
    "    return loss"
   ],
   "id": "400f09adff22281c",
   "outputs": [],
   "execution_count": 98
  },
  {
   "metadata": {
    "ExecuteTime": {
     "end_time": "2025-03-20T16:47:19.056681Z",
     "start_time": "2025-03-20T16:47:19.050382Z"
    }
   },
   "cell_type": "code",
   "source": [
    "def accuracy_score(y_true, y_pred):\n",
    "    \"\"\"\n",
    "    Compute the accuracy score for classification.\n",
    "\n",
    "    Parameters:\n",
    "    - y_true: True labels.\n",
    "    - y_pred: Predicted labels.\n",
    "\n",
    "    Returns:\n",
    "    - accuracy: The computed accuracy score.\n",
    "    \"\"\"\n",
    "    correct = np.sum(y_true == y_pred)\n",
    "    \n",
    "    accuracy = correct / len(y_true)\n",
    "    \n",
    "    return accuracy"
   ],
   "id": "c955c2267124b1cd",
   "outputs": [],
   "execution_count": 99
  },
  {
   "metadata": {},
   "cell_type": "markdown",
   "source": "## Comparison of Three Machine Learning Models",
   "id": "e15dcebd59863c8d"
  },
  {
   "metadata": {
    "ExecuteTime": {
     "end_time": "2025-03-20T16:47:19.542669Z",
     "start_time": "2025-03-20T16:47:19.528673Z"
    }
   },
   "cell_type": "code",
   "source": [
    "# converting the output string labels to integers \n",
    "label_encoder = LabelEncoder()\n",
    "y_train_encoded = label_encoder.fit_transform(y_train)\n",
    "y_test_encoded = label_encoder.transform(y_test)"
   ],
   "id": "1ad3d99ac1229000",
   "outputs": [],
   "execution_count": 100
  },
  {
   "metadata": {},
   "cell_type": "markdown",
   "source": [
    "### 1. Baseline model\n",
    "Learns and Predicts the Relative Frequencies of Classes"
   ],
   "id": "a210aa3bedb1e2f2"
  },
  {
   "metadata": {
    "ExecuteTime": {
     "end_time": "2025-03-20T16:47:20.008146Z",
     "start_time": "2025-03-20T16:47:20.001398Z"
    }
   },
   "cell_type": "code",
   "source": [
    "baseline_model = DummyClassifier(strategy=\"stratified\")\n",
    "baseline_model.fit(X_train, y_train_encoded)\n",
    "\n",
    "y_pred = baseline_model.predict(X_test)\n",
    "y_pred_proba = baseline_model.predict_proba(X_test)\n",
    "\n",
    "baseline_accuracy = accuracy_score(y_test_encoded, y_pred)\n",
    "baseline_log_score = log_loss(y_test_encoded, y_pred_proba)\n",
    "\n",
    "print(f\"Accuracy: {baseline_accuracy}\")\n",
    "print(f\"Log Loss: {baseline_log_score}\")"
   ],
   "id": "53b56475cc2e7d98",
   "outputs": [
    {
     "name": "stdout",
     "output_type": "stream",
     "text": [
      "Accuracy: 0.4290450928381963\n",
      "Log Loss: 19.994928244533835\n"
     ]
    }
   ],
   "execution_count": 101
  },
  {
   "metadata": {},
   "cell_type": "markdown",
   "source": "### 2. Logistic Regression",
   "id": "2f4f119544543685"
  },
  {
   "metadata": {
    "ExecuteTime": {
     "end_time": "2025-03-20T16:47:22.369897Z",
     "start_time": "2025-03-20T16:47:20.690383Z"
    }
   },
   "cell_type": "code",
   "source": [
    "log_reg = LogisticRegression(max_iter=1500)  \n",
    "log_reg.fit(X_train, y_train_encoded)\n",
    "\n",
    "y_pred = log_reg.predict(X_test)\n",
    "y_pred_proba = log_reg.predict_proba(X_test)\n",
    "\n",
    "lr_accuracy = accuracy_score(y_test_encoded, y_pred)\n",
    "lr_log_score = log_loss(y_test_encoded, y_pred_proba)\n",
    "\n",
    "print(f\"Accuracy: {lr_accuracy}\")\n",
    "print(f\"Log Loss: {lr_log_score}\")"
   ],
   "id": "e23f9deb2433477a",
   "outputs": [
    {
     "name": "stdout",
     "output_type": "stream",
     "text": [
      "Accuracy: 0.7427055702917772\n",
      "Log Loss: 0.6514255329754493\n"
     ]
    }
   ],
   "execution_count": 102
  },
  {
   "metadata": {},
   "cell_type": "markdown",
   "source": "### 3. Random Forest",
   "id": "7fb9f9309f50fecb"
  },
  {
   "metadata": {
    "ExecuteTime": {
     "end_time": "2025-03-20T16:47:22.460006Z",
     "start_time": "2025-03-20T16:47:22.449484Z"
    }
   },
   "cell_type": "code",
   "source": [
    "model = RandomForestClassifier(random_state=42)\n",
    "param_grid = {\n",
    "    'n_estimators': [10, 50, 100],\n",
    "    'max_features': ['sqrt', 'log2'],\n",
    "    'max_depth': [10, 20],\n",
    "    'min_samples_split': [2, 5, 10],\n",
    "    'min_samples_leaf': [1, 2, 4]\n",
    "}\n",
    "\n",
    "# to generate all combinations of hyperparameters\n",
    "keys, values = zip(*param_grid.items())\n",
    "param_combinations = [dict(zip(keys, v)) for v in product(*values)]\n"
   ],
   "id": "d5fd604e696a63e",
   "outputs": [],
   "execution_count": 103
  },
  {
   "metadata": {},
   "cell_type": "markdown",
   "source": "#### Approach 1: Optimizing training fold performance",
   "id": "a06b11d6e3300970"
  },
  {
   "metadata": {
    "ExecuteTime": {
     "end_time": "2025-03-20T16:47:23.006417Z",
     "start_time": "2025-03-20T16:47:22.994209Z"
    }
   },
   "cell_type": "code",
   "source": [
    "def flat_cv(X, y, param_grid, n_splits=5):\n",
    "    cv = KFold(n_splits=n_splits)\n",
    "    acc_max = 0.0\n",
    "    log_loss_min = float('inf')\n",
    "    best_params = None\n",
    "    \n",
    "    for params in param_grid:\n",
    "        acc = 0.0\n",
    "        log_loss_total = 0.0\n",
    "        \n",
    "        for train_idx, test_idx in cv.split(X):\n",
    "            X_train_cv, X_test_cv = X.iloc[train_idx], X.iloc[test_idx]\n",
    "            y_train_cv, y_test_cv = y[train_idx], y[test_idx]\n",
    "            \n",
    "            model = RandomForestClassifier(**params)\n",
    "            model.fit(X_train_cv, y_train_cv)\n",
    "            \n",
    "            y_pred_proba = model.predict_proba(X_test_cv)\n",
    "            y_pred = model.predict(X_test_cv)\n",
    "            \n",
    "            acc += accuracy_score(y_test_cv, y_pred)\n",
    "            log_loss_total += log_loss(y_test_cv, y_pred_proba)\n",
    "        \n",
    "        acc_avg = acc / n_splits\n",
    "        log_loss_avg = log_loss_total / n_splits\n",
    "        \n",
    "        # best model check based on log loss\n",
    "        if log_loss_avg < log_loss_min:\n",
    "            log_loss_min = log_loss_avg\n",
    "            acc_max = acc_avg\n",
    "            best_params = params\n",
    "    \n",
    "    return acc_max, log_loss_min, best_params"
   ],
   "id": "d030c19023979e8e",
   "outputs": [],
   "execution_count": 104
  },
  {
   "metadata": {
    "ExecuteTime": {
     "end_time": "2025-03-20T16:49:16.452791Z",
     "start_time": "2025-03-20T16:47:23.529898Z"
    }
   },
   "cell_type": "code",
   "source": [
    "best_accuracy, best_log_loss, best_hyperparams = flat_cv(X_train, y_train_encoded, param_combinations)\n",
    "print(f\"Best Accuracy: {best_accuracy}\")\n",
    "print(f\"Best Log Loss: {best_log_loss}\")\n",
    "print(f\"Best Hyperparameters: {best_hyperparams}\")\n",
    "\n",
    "# train the final model with the best hyperparameters on the entire training set\n",
    "final_model = RandomForestClassifier(**best_hyperparams)\n",
    "final_model.fit(X_train, y_train_encoded)\n",
    "\n",
    "# evaluate on the test set\n",
    "y_test_pred = final_model.predict(X_test)\n",
    "y_test_pred_proba = final_model.predict_proba(X_test)\n",
    "rf1_test_accuracy = accuracy_score(y_test_encoded, y_test_pred)\n",
    "rf1_test_log_loss = log_loss(y_test_encoded, y_test_pred_proba)\n",
    "\n",
    "print(f\"Test Accuracy: {rf1_test_accuracy}\")\n",
    "print(f\"Test Log Loss: {rf1_test_log_loss}\")"
   ],
   "id": "d5d80cd2fe269ea0",
   "outputs": [
    {
     "name": "stdout",
     "output_type": "stream",
     "text": [
      "Best Accuracy: 0.7582499515065304\n",
      "Best Log Loss: 0.6355484422540897\n",
      "Best Hyperparameters: {'n_estimators': 100, 'max_features': 'sqrt', 'max_depth': 10, 'min_samples_split': 5, 'min_samples_leaf': 2}\n",
      "Test Accuracy: 0.7785145888594165\n",
      "Test Log Loss: 0.6015265320609074\n"
     ]
    }
   ],
   "execution_count": 105
  },
  {
   "metadata": {},
   "cell_type": "markdown",
   "source": "#### Approach 2: Nested cross-validation",
   "id": "9037be873e8fda5e"
  },
  {
   "metadata": {
    "ExecuteTime": {
     "end_time": "2025-03-20T16:49:16.514468Z",
     "start_time": "2025-03-20T16:49:16.499425Z"
    }
   },
   "cell_type": "code",
   "source": [
    "def nested_cv(X, y, param_grid, outer_splits=5, inner_splits=5):\n",
    "    cv_outer = KFold(n_splits=outer_splits)\n",
    "    acc_final = 0.0\n",
    "    log_loss_final = 0.0\n",
    "    best_params_final = None  \n",
    "    acc_max = 0.0\n",
    "    best_log_loss_final = float('inf') \n",
    "    \n",
    "    for tr_outer_idx, te_outer_idx in cv_outer.split(X):\n",
    "        X_tr_outer, X_te_outer = X.iloc[tr_outer_idx], X.iloc[te_outer_idx]\n",
    "        y_tr_outer, y_te_outer = y[tr_outer_idx], y[te_outer_idx]\n",
    "        \n",
    "        log_loss_min = float('inf')\n",
    "        best_params = None  # to store the best parameters for the current outer fold\n",
    "        \n",
    "        # inner cross-validation for hyperparameter tuning\n",
    "        for params in param_grid:\n",
    "            acc = 0.0\n",
    "            log_loss_total = 0.0\n",
    "            cv_inner = KFold(n_splits=inner_splits)\n",
    "            \n",
    "            for tr_inner_idx, te_inner_idx in cv_inner.split(X_tr_outer):\n",
    "                X_tr_inner, X_te_inner = X_tr_outer.iloc[tr_inner_idx], X_tr_outer.iloc[te_inner_idx]\n",
    "                y_tr_inner, y_te_inner = y_tr_outer[tr_inner_idx], y_tr_outer[te_inner_idx]\n",
    "                \n",
    "                model = RandomForestClassifier(**params)\n",
    "                model.fit(X_tr_inner, y_tr_inner)\n",
    "                \n",
    "                y_pred_proba = model.predict_proba(X_te_inner)\n",
    "                y_pred = model.predict(X_te_inner)\n",
    "                \n",
    "                acc += accuracy_score(y_te_inner, y_pred)\n",
    "                log_loss_total += log_loss(y_te_inner, y_pred_proba)\n",
    "            \n",
    "            acc_avg = acc / inner_splits\n",
    "            log_loss_avg = log_loss_total / inner_splits\n",
    "            \n",
    "            # get the best hyperparameters based on log loss\n",
    "            if log_loss_avg < log_loss_min:\n",
    "                log_loss_min = log_loss_avg\n",
    "                acc_max = acc_avg\n",
    "                best_params = params\n",
    "        \n",
    "        # track the best parameters across all outer folds based on log loss\n",
    "        if log_loss_min < best_log_loss_final:\n",
    "            best_log_loss_final = log_loss_min\n",
    "            best_params_final = best_params\n",
    "        \n",
    "        # train the best model on the full outer training set\n",
    "        best_model = RandomForestClassifier(**best_params)\n",
    "        best_model.fit(X_tr_outer, y_tr_outer)\n",
    "        \n",
    "        # evaluate on the outer test set\n",
    "        y_pred_proba = best_model.predict_proba(X_te_outer)\n",
    "        y_pred = best_model.predict(X_te_outer)\n",
    "        \n",
    "        # accumulate accuracy and log loss for the outer fold\n",
    "        acc_final += accuracy_score(y_te_outer, y_pred)\n",
    "        log_loss_final += log_loss(y_te_outer, y_pred_proba)\n",
    "    \n",
    "    acc_final_avg = acc_final / outer_splits\n",
    "    log_loss_final_avg = log_loss_final / outer_splits\n",
    "    \n",
    "    return acc_final_avg, log_loss_final_avg, best_params_final"
   ],
   "id": "60724825b09421aa",
   "outputs": [],
   "execution_count": 106
  },
  {
   "metadata": {
    "ExecuteTime": {
     "end_time": "2025-03-20T16:57:33.686291Z",
     "start_time": "2025-03-20T16:49:16.547587Z"
    }
   },
   "cell_type": "code",
   "source": [
    "best_accuracy2, best_log_loss2, best_hyperparams2 = nested_cv(X_train, y_train_encoded, param_combinations)\n",
    "print(f\"Best Accuracy: {best_accuracy2}\")\n",
    "print(f\"Best Log Loss: {best_log_loss2}\")\n",
    "print(f\"Best Hyperparameters: {best_hyperparams2}\")\n",
    "\n",
    "# train the final model with the best hyperparameters on the entire training set\n",
    "rf2 = RandomForestClassifier(**best_hyperparams2)\n",
    "rf2.fit(X_train, y_train_encoded)\n",
    "\n",
    "# evaluate on the test set\n",
    "y_test_pred2 = rf2.predict(X_test)\n",
    "y_test_pred_proba2 = rf2.predict_proba(X_test)\n",
    "rf2_test_accuracy = accuracy_score(y_test_encoded, y_test_pred2)\n",
    "rf2_test_log_loss = log_loss(y_test_encoded, y_test_pred_proba2)\n",
    "\n",
    "print(f\"Test Accuracy: {rf2_test_accuracy}\")\n",
    "print(f\"Test Log Loss: {rf2_test_log_loss}\")"
   ],
   "id": "b9e65288895968b6",
   "outputs": [
    {
     "name": "stdout",
     "output_type": "stream",
     "text": [
      "Best Accuracy: 0.7636545486874434\n",
      "Best Log Loss: 0.636968299310643\n",
      "Best Hyperparameters: {'n_estimators': 100, 'max_features': 'sqrt', 'max_depth': 10, 'min_samples_split': 10, 'min_samples_leaf': 1}\n",
      "Test Accuracy: 0.773209549071618\n",
      "Test Log Loss: 0.599839987313824\n"
     ]
    }
   ],
   "execution_count": 107
  },
  {
   "metadata": {},
   "cell_type": "markdown",
   "source": "## Analysis of results",
   "id": "d3c715106ab8e384"
  },
  {
   "metadata": {
    "ExecuteTime": {
     "end_time": "2025-03-20T16:57:40.183729Z",
     "start_time": "2025-03-20T16:57:39.705744Z"
    }
   },
   "cell_type": "code",
   "source": [
    "models = ['Baseline', 'LR', 'RF (Flat CV)', 'RF (Nested CV)']\n",
    "accuracy = [baseline_accuracy, lr_accuracy, rf1_test_accuracy, rf2_test_accuracy]\n",
    "log_loss = [min(score, 2.5) for score in [baseline_log_score, lr_log_score, rf1_test_log_loss, rf2_test_log_loss]]\n",
    "\n",
    "x = np.arange(len(models))\n",
    "width = 0.35\n",
    "\n",
    "fig, ax = plt.subplots()\n",
    "rects1 = ax.bar(x - width/2, accuracy, width, label='Accuracy', color='lightblue')\n",
    "rects2 = ax.bar(x + width/2, log_loss, width, label='Log Loss', color='lightpink')\n",
    "\n",
    "ax.set_xlabel('Models')\n",
    "ax.set_ylabel('Score')\n",
    "ax.set_title('Model Comparison: Accuracy and Log Loss')\n",
    "ax.set_xticks(x)\n",
    "ax.set_xticklabels(models, ha='center')\n",
    "ax.legend()\n",
    "\n",
    "# set y-axis limit to 3 for better visualization\n",
    "ax.set_ylim(0, 3)\n",
    "\n",
    "def autolabel(rects, original_values):\n",
    "    for rect, original_value in zip(rects, original_values):\n",
    "        height = rect.get_height()\n",
    "        label = '2.5+' if original_value > 2 else f'{round(height, 2)}'\n",
    "        ax.annotate(label,\n",
    "                    xy=(rect.get_x() + rect.get_width() / 2, height),\n",
    "                    xytext=(0, 3),  # 3 points vertical offset\n",
    "                    textcoords=\"offset points\",\n",
    "                    ha='center', va='bottom')\n",
    "\n",
    "autolabel(rects1, accuracy)\n",
    "autolabel(rects2, [baseline_log_score, lr_log_score, rf1_test_log_loss, rf2_test_log_loss])\n",
    "\n",
    "plt.savefig('visualizations/model_comparison.png')\n",
    "\n",
    "plt.show()"
   ],
   "id": "ee577b1a2dc4fb7b",
   "outputs": [
    {
     "data": {
      "text/plain": [
       "<Figure size 640x480 with 1 Axes>"
      ],
      "image/png": "[encoded data removed]"
     },
     "metadata": {},
     "output_type": "display_data"
    }
   ],
   "execution_count": 109
  }
 ],
 "metadata": {
  "kernelspec": {
   "display_name": "Python 3",
   "language": "python",
   "name": "python3"
  },
  "language_info": {
   "codemirror_mode": {
    "name": "ipython",
    "version": 2
   },
   "file_extension": ".py",
   "mimetype": "text/x-python",
   "name": "python",
   "nbconvert_exporter": "python",
   "pygments_lexer": "ipython2",
   "version": "2.7.6"
  }
 },
 "nbformat": 4,
 "nbformat_minor": 5
}
