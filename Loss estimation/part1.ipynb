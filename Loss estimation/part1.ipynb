{
 "cells": [
  {
   "metadata": {},
   "cell_type": "markdown",
   "source": [
    "# Model evaluation \n",
    "Part 1\n"
   ],
   "id": "5486b28aeafbdf16"
  },
  {
   "metadata": {},
   "cell_type": "markdown",
   "source": [
    "### Environment Setup\n",
    "To run this notebook, you need to have the following Python libraries installed:\n",
    "\n",
    "- `pandas`\n",
    "- `numpy`\n",
    "- `scikit-learn`\n",
    "- `matplotlib`\n",
    "- `pickle`\n",
    "\n",
    "You can install them with `pip`:\n",
    "\n",
    "```bash\n",
    "pip install pandas numpy scikit-learn matplotlib\n",
    "```\n",
    "\n",
    "Or you can set up conda environment and install all the needed libraries using the following command:\n",
    "```bash \n",
    "conda env create -f environment.yml\n",
    "conda activate model_evaluation\n",
    "```"
   ],
   "id": "1c94ea1d8d18056d"
  },
  {
   "cell_type": "code",
   "id": "initial_id",
   "metadata": {
    "collapsed": true,
    "ExecuteTime": {
     "end_time": "2025-03-23T16:59:00.924395Z",
     "start_time": "2025-03-23T16:59:00.905642Z"
    }
   },
   "source": [
    "import pandas as pd\n",
    "import numpy as np\n",
    "from sklearn.dummy import DummyClassifier\n",
    "from sklearn.model_selection import train_test_split\n",
    "from sklearn.preprocessing import LabelEncoder\n",
    "from sklearn.linear_model import LogisticRegression\n",
    "from sklearn.model_selection import KFold\n",
    "from sklearn.ensemble import RandomForestClassifier\n",
    "from itertools import product\n",
    "import matplotlib.pyplot as plt\n",
    "import pickle"
   ],
   "outputs": [],
   "execution_count": 2
  },
  {
   "metadata": {
    "ExecuteTime": {
     "end_time": "2025-03-23T16:59:01.689026Z",
     "start_time": "2025-03-23T16:59:01.642282Z"
    }
   },
   "cell_type": "code",
   "source": [
    "file_path = 'data/dataset.csv'\n",
    "df = pd.read_csv(file_path, sep=';', header=0)\n",
    "\n",
    "df.head()"
   ],
   "id": "7635bf82a8adac97",
   "outputs": [
    {
     "data": {
      "text/plain": [
       "     ShotType Competition PlayerType  Transition  TwoLegged Movement  Angle  \\\n",
       "0  above head         U14          F           1          1       no  73.83   \n",
       "1       layup         U14          F           0          1       no  28.13   \n",
       "2  above head         U14          F           0          1       no  51.88   \n",
       "3  above head         U14          F           1          1       no  80.84   \n",
       "4  above head         U14          F           0          1       no  30.89   \n",
       "\n",
       "   Distance  \n",
       "0      0.73  \n",
       "1      1.02  \n",
       "2      7.22  \n",
       "3      3.64  \n",
       "4      7.20  "
      ],
      "text/html": [
       "<div>\n",
       "<style scoped>\n",
       "    .dataframe tbody tr th:only-of-type {\n",
       "        vertical-align: middle;\n",
       "    }\n",
       "\n",
       "    .dataframe tbody tr th {\n",
       "        vertical-align: top;\n",
       "    }\n",
       "\n",
       "    .dataframe thead th {\n",
       "        text-align: right;\n",
       "    }\n",
       "</style>\n",
       "<table border=\"1\" class=\"dataframe\">\n",
       "  <thead>\n",
       "    <tr style=\"text-align: right;\">\n",
       "      <th></th>\n",
       "      <th>ShotType</th>\n",
       "      <th>Competition</th>\n",
       "      <th>PlayerType</th>\n",
       "      <th>Transition</th>\n",
       "      <th>TwoLegged</th>\n",
       "      <th>Movement</th>\n",
       "      <th>Angle</th>\n",
       "      <th>Distance</th>\n",
       "    </tr>\n",
       "  </thead>\n",
       "  <tbody>\n",
       "    <tr>\n",
       "      <th>0</th>\n",
       "      <td>above head</td>\n",
       "      <td>U14</td>\n",
       "      <td>F</td>\n",
       "      <td>1</td>\n",
       "      <td>1</td>\n",
       "      <td>no</td>\n",
       "      <td>73.83</td>\n",
       "      <td>0.73</td>\n",
       "    </tr>\n",
       "    <tr>\n",
       "      <th>1</th>\n",
       "      <td>layup</td>\n",
       "      <td>U14</td>\n",
       "      <td>F</td>\n",
       "      <td>0</td>\n",
       "      <td>1</td>\n",
       "      <td>no</td>\n",
       "      <td>28.13</td>\n",
       "      <td>1.02</td>\n",
       "    </tr>\n",
       "    <tr>\n",
       "      <th>2</th>\n",
       "      <td>above head</td>\n",
       "      <td>U14</td>\n",
       "      <td>F</td>\n",
       "      <td>0</td>\n",
       "      <td>1</td>\n",
       "      <td>no</td>\n",
       "      <td>51.88</td>\n",
       "      <td>7.22</td>\n",
       "    </tr>\n",
       "    <tr>\n",
       "      <th>3</th>\n",
       "      <td>above head</td>\n",
       "      <td>U14</td>\n",
       "      <td>F</td>\n",
       "      <td>1</td>\n",
       "      <td>1</td>\n",
       "      <td>no</td>\n",
       "      <td>80.84</td>\n",
       "      <td>3.64</td>\n",
       "    </tr>\n",
       "    <tr>\n",
       "      <th>4</th>\n",
       "      <td>above head</td>\n",
       "      <td>U14</td>\n",
       "      <td>F</td>\n",
       "      <td>0</td>\n",
       "      <td>1</td>\n",
       "      <td>no</td>\n",
       "      <td>30.89</td>\n",
       "      <td>7.20</td>\n",
       "    </tr>\n",
       "  </tbody>\n",
       "</table>\n",
       "</div>"
      ]
     },
     "execution_count": 3,
     "metadata": {},
     "output_type": "execute_result"
    }
   ],
   "execution_count": 3
  },
  {
   "metadata": {
    "ExecuteTime": {
     "end_time": "2025-03-23T16:59:02.198038Z",
     "start_time": "2025-03-23T16:59:02.182335Z"
    }
   },
   "cell_type": "code",
   "source": [
    "categorical_columns = df.select_dtypes(include=['object']).columns\n",
    "unique_classes = df[categorical_columns].nunique()\n",
    "print(\"Number of unique classes in each categorical column:\")\n",
    "print(unique_classes)"
   ],
   "id": "db7cdfb4c89626bc",
   "outputs": [
    {
     "name": "stdout",
     "output_type": "stream",
     "text": [
      "Number of unique classes in each categorical column:\n",
      "ShotType       6\n",
      "Competition    5\n",
      "PlayerType     3\n",
      "Movement       3\n",
      "dtype: int64\n"
     ]
    }
   ],
   "execution_count": 4
  },
  {
   "metadata": {
    "ExecuteTime": {
     "end_time": "2025-03-23T16:59:02.855758Z",
     "start_time": "2025-03-23T16:59:02.841732Z"
    }
   },
   "cell_type": "code",
   "source": [
    "categorical_columns = [\"Competition\", \"PlayerType\", \"Movement\"]\n",
    "df_encoded = pd.get_dummies(df, columns=categorical_columns, drop_first=True)"
   ],
   "id": "6b97d4d880b3bc37",
   "outputs": [],
   "execution_count": 5
  },
  {
   "metadata": {
    "ExecuteTime": {
     "end_time": "2025-03-23T16:59:03.471108Z",
     "start_time": "2025-03-23T16:59:03.457315Z"
    }
   },
   "cell_type": "code",
   "source": [
    "y = df_encoded['ShotType']\n",
    "X = df_encoded.drop(columns=['ShotType'])\n",
    "X_train, X_test, y_train, y_test = train_test_split(X, y, test_size=0.3, random_state=42)"
   ],
   "id": "76c24758986d8fa0",
   "outputs": [],
   "execution_count": 6
  },
  {
   "metadata": {},
   "cell_type": "markdown",
   "source": "### Helper functions",
   "id": "4948694a366afcd6"
  },
  {
   "metadata": {
    "ExecuteTime": {
     "end_time": "2025-03-23T16:59:04.711562Z",
     "start_time": "2025-03-23T16:59:04.696401Z"
    }
   },
   "cell_type": "code",
   "source": [
    "def log_loss(y_true, y_pred):\n",
    "    \"\"\"\n",
    "    Compute the log loss (logarithmic loss) for multiclass classification.\n",
    "\n",
    "    Parameters:\n",
    "    - y_true: True labels (integers representing classes).\n",
    "    - y_pred: Predicted probabilities for each class (2D array).\n",
    "\n",
    "    Returns:\n",
    "    - log_loss: The computed log loss.\n",
    "    \"\"\"\n",
    "    # clip predicted probabilities to avoid log(0) or log(1)\n",
    "    y_pred = np.clip(y_pred, 1e-10, 1 - 1e-10)\n",
    "    \n",
    "    # convert y_true to one-hot encoding\n",
    "    y_true_one_hot = np.eye(y_pred.shape[1])[y_true]\n",
    "    \n",
    "    loss = -np.mean(np.sum(y_true_one_hot * np.log(y_pred), axis=1))\n",
    "    \n",
    "    return loss"
   ],
   "id": "400f09adff22281c",
   "outputs": [],
   "execution_count": 7
  },
  {
   "metadata": {
    "ExecuteTime": {
     "end_time": "2025-03-23T16:59:05.395645Z",
     "start_time": "2025-03-23T16:59:05.386261Z"
    }
   },
   "cell_type": "code",
   "source": [
    "def accuracy_score(y_true, y_pred):\n",
    "    \"\"\"\n",
    "    Compute the accuracy score for classification.\n",
    "\n",
    "    Parameters:\n",
    "    - y_true: True labels.\n",
    "    - y_pred: Predicted labels.\n",
    "\n",
    "    Returns:\n",
    "    - accuracy: The computed accuracy score.\n",
    "    \"\"\"\n",
    "    correct = np.sum(y_true == y_pred)\n",
    "    \n",
    "    accuracy = correct / len(y_true)\n",
    "    \n",
    "    return accuracy"
   ],
   "id": "c955c2267124b1cd",
   "outputs": [],
   "execution_count": 8
  },
  {
   "metadata": {
    "ExecuteTime": {
     "end_time": "2025-03-23T16:59:06.016028Z",
     "start_time": "2025-03-23T16:59:05.984185Z"
    }
   },
   "cell_type": "code",
   "source": [
    "def flat_cv(model_arg, X, y, param_grid=None, n_splits=5):\n",
    "    cv = KFold(n_splits=n_splits, shuffle=True, random_state=42)\n",
    "    \n",
    "    if param_grid is None:\n",
    "        param_grid = [{}]  \n",
    "    \n",
    "    best_params = None\n",
    "    log_loss_min_avg = float('inf')\n",
    "    acc_max = 0.0\n",
    "    best_acc_se = 0.0\n",
    "    best_log_loss_se = 0.0\n",
    "    \n",
    "    for params in param_grid:\n",
    "        acc_scores = []\n",
    "        log_loss_scores = []\n",
    "        \n",
    "        for train_idx, test_idx in cv.split(X):\n",
    "            X_train_cv, X_test_cv = X.iloc[train_idx], X.iloc[test_idx]\n",
    "            y_train_cv, y_test_cv = y[train_idx], y[test_idx]\n",
    "            \n",
    "            model = model_arg(**params, random_state=42)\n",
    "            model.fit(X_train_cv, y_train_cv)\n",
    "            \n",
    "            y_pred_proba = model.predict_proba(X_test_cv)\n",
    "            y_pred = model.predict(X_test_cv)\n",
    "            \n",
    "            acc_scores.append(accuracy_score(y_test_cv, y_pred))\n",
    "            log_loss_scores.append(log_loss(y_test_cv, y_pred_proba))\n",
    "        \n",
    "        acc_avg = np.mean(acc_scores)\n",
    "        log_loss_avg = np.mean(log_loss_scores)\n",
    "        \n",
    "        acc_se = np.sqrt((acc_avg * (1 - acc_avg)) / n_splits)\n",
    "        log_loss_std = np.std(log_loss_scores, ddof=1)  \n",
    "        log_loss_se = log_loss_std / np.sqrt(n_splits)\n",
    "        \n",
    "        # Best model check based on log loss\n",
    "        if log_loss_avg < log_loss_min_avg:\n",
    "            log_loss_min_avg = log_loss_avg\n",
    "            acc_max = acc_avg\n",
    "            best_params = params\n",
    "            best_acc_se = acc_se\n",
    "            best_log_loss_se = log_loss_se\n",
    "    \n",
    "    return acc_max, log_loss_min_avg, best_params, best_acc_se, best_log_loss_se\n"
   ],
   "id": "e0be60b118c0f4ed",
   "outputs": [],
   "execution_count": 9
  },
  {
   "metadata": {},
   "cell_type": "markdown",
   "source": "## Comparison of Three Machine Learning Models",
   "id": "e15dcebd59863c8d"
  },
  {
   "metadata": {
    "ExecuteTime": {
     "end_time": "2025-03-23T16:59:07.543647Z",
     "start_time": "2025-03-23T16:59:07.531938Z"
    }
   },
   "cell_type": "code",
   "source": [
    "# converting the output string labels to integers \n",
    "label_encoder = LabelEncoder()\n",
    "y_train_encoded = label_encoder.fit_transform(y_train)\n",
    "y_test_encoded = label_encoder.transform(y_test)"
   ],
   "id": "1ad3d99ac1229000",
   "outputs": [],
   "execution_count": 10
  },
  {
   "metadata": {},
   "cell_type": "markdown",
   "source": [
    "### 1. Baseline model\n",
    "Learns and Predicts the Relative Frequencies of Classes"
   ],
   "id": "a210aa3bedb1e2f2"
  },
  {
   "metadata": {
    "ExecuteTime": {
     "end_time": "2025-03-23T16:59:13.997447Z",
     "start_time": "2025-03-23T16:59:13.965525Z"
    }
   },
   "cell_type": "code",
   "source": [
    "baseline_acc, baseline_log_loss_min, best_hyperparams, baseline_best_acc_se, baseline_best_log_loss_se = flat_cv(DummyClassifier, X_train, y_train_encoded, [{\"strategy\": \"prior\"}])\n",
    "print(f\"Accuracy approximation: {baseline_acc:.4f} ± {baseline_best_acc_se:.4f}\")\n",
    "print(f\"Log Loss approximation: {baseline_log_loss_min:.4f} ± {baseline_best_log_loss_se:.4f}\")\n",
    "\n",
    "final_model = DummyClassifier(strategy=\"prior\")\n",
    "final_model.fit(X_train, y_train_encoded)\n",
    "\n",
    "y_pred_baseline = final_model.predict(X_test)\n",
    "y_pred_proba_baseline = final_model.predict_proba(X_test)\n",
    "baseline_accuracy = accuracy_score(y_test_encoded, y_pred_baseline)\n",
    "baseline_log_score = log_loss(y_test_encoded, y_pred_proba_baseline)\n",
    "\n",
    "print(f\"Test Accuracy: {baseline_accuracy:.4f}\")\n",
    "print(f\"Test Log Loss: {baseline_log_score:.4f}\")"
   ],
   "id": "d91a32586cb6557e",
   "outputs": [
    {
     "name": "stdout",
     "output_type": "stream",
     "text": [
      "Accuracy approximation: 0.6115 ± 0.2180\n",
      "Log Loss approximation: 1.1656 ± 0.0102\n",
      "Test Accuracy: 0.6001\n",
      "Test Log Loss: 1.1684\n"
     ]
    }
   ],
   "execution_count": 13
  },
  {
   "metadata": {},
   "cell_type": "markdown",
   "source": "### 2. Logistic Regression",
   "id": "2f4f119544543685"
  },
  {
   "metadata": {
    "ExecuteTime": {
     "end_time": "2025-03-23T16:59:30.968172Z",
     "start_time": "2025-03-23T16:59:16.231642Z"
    }
   },
   "cell_type": "code",
   "source": [
    "log_reg_acc, log_reg_log_loss_min, log_reg_best_hyperparams, log_reg_best_acc_se, log_reg_best_log_loss_se = flat_cv(LogisticRegression, X_train, y_train_encoded, [{\"max_iter\": 1500}])\n",
    "print(f\"Accuracy approximation: {log_reg_acc:.4f} ± {log_reg_best_acc_se:.4f}\")\n",
    "print(f\"Log Loss approximation: {log_reg_log_loss_min:.4f} ± {log_reg_best_log_loss_se:.4f}\")\n",
    "\n",
    "final_log_reg = LogisticRegression(max_iter=1500)\n",
    "final_log_reg.fit(X_train, y_train_encoded)\n",
    "\n",
    "y_pred_lr = final_log_reg.predict(X_test)\n",
    "y_pred_proba_lr = final_log_reg.predict_proba(X_test)\n",
    "lr_accuracy = accuracy_score(y_test_encoded, y_pred_lr)\n",
    "lr_log_score = log_loss(y_test_encoded, y_pred_proba_lr)\n",
    "\n",
    "print(f\"Test Accuracy: {lr_accuracy:.4f}\")\n",
    "print(f\"Test Log Loss: {lr_log_score:.4f}\")"
   ],
   "id": "e23f9deb2433477a",
   "outputs": [
    {
     "name": "stdout",
     "output_type": "stream",
     "text": [
      "Accuracy approximation: 0.7329 ± 0.1979\n",
      "Log Loss approximation: 0.6888 ± 0.0076\n",
      "Test Accuracy: 0.7427\n",
      "Test Log Loss: 0.6514\n"
     ]
    }
   ],
   "execution_count": 14
  },
  {
   "metadata": {},
   "cell_type": "markdown",
   "source": "### 3. Random Forest",
   "id": "7fb9f9309f50fecb"
  },
  {
   "metadata": {
    "ExecuteTime": {
     "end_time": "2025-03-23T16:59:35.008998Z",
     "start_time": "2025-03-23T16:59:34.979743Z"
    }
   },
   "cell_type": "code",
   "source": [
    "model = RandomForestClassifier(random_state=42)\n",
    "param_grid = {\n",
    "    'n_estimators': [10, 50, 100],\n",
    "    'max_features': ['sqrt', 'log2'],\n",
    "    'max_depth': [10, 20],\n",
    "    'min_samples_split': [2, 5, 10],\n",
    "    'min_samples_leaf': [1, 2, 4]\n",
    "}\n",
    "\n",
    "# to generate all combinations of hyperparameters\n",
    "keys, values = zip(*param_grid.items())\n",
    "param_combinations = [dict(zip(keys, v)) for v in product(*values)]\n"
   ],
   "id": "d5fd604e696a63e",
   "outputs": [],
   "execution_count": 15
  },
  {
   "metadata": {},
   "cell_type": "markdown",
   "source": "#### Approach 1: Optimizing training fold performance",
   "id": "a06b11d6e3300970"
  },
  {
   "metadata": {
    "ExecuteTime": {
     "end_time": "2025-03-23T17:01:27.854540Z",
     "start_time": "2025-03-23T16:59:35.929873Z"
    }
   },
   "cell_type": "code",
   "source": [
    "rf1_best_accuracy, rf1_log_loss_min_avg, rf1_best_hyperparams, rf1_best_acc_se, rf1_best_log_loss_se = flat_cv(RandomForestClassifier, X_train, y_train_encoded, param_combinations)\n",
    "print(f\"Best Hyperparameters: {rf1_best_hyperparams}\")\n",
    "print(f\"Accuracy approximation: {rf1_best_accuracy:.4f} ± {rf1_best_acc_se:.4f}\")\n",
    "print(f\"Log Loss approximation: {rf1_log_loss_min_avg:.4f} ± {rf1_best_log_loss_se:.4f}\")\n",
    "\n",
    "final_model = RandomForestClassifier(**rf1_best_hyperparams)\n",
    "final_model.fit(X_train, y_train_encoded)\n",
    "\n",
    "y_pred_rf1 = final_model.predict(X_test)\n",
    "y_pred_proba_rf1 = final_model.predict_proba(X_test)\n",
    "rf1_test_accuracy = accuracy_score(y_test_encoded, y_pred_rf1)\n",
    "rf1_test_log_loss = log_loss(y_test_encoded, y_pred_proba_rf1)\n",
    "\n",
    "print(f\"Test Accuracy: {rf1_test_accuracy:.4f}\")\n",
    "print(f\"Test Log Loss: {rf1_test_log_loss:.4f}\")"
   ],
   "id": "d5d80cd2fe269ea0",
   "outputs": [
    {
     "name": "stdout",
     "output_type": "stream",
     "text": [
      "Best Hyperparameters: {'n_estimators': 100, 'max_features': 'sqrt', 'max_depth': 10, 'min_samples_split': 2, 'min_samples_leaf': 4}\n",
      "Accuracy approximation: 0.7531 ± 0.1928\n",
      "Log Loss approximation: 0.6413 ± 0.0079\n",
      "Test Accuracy: 0.7732\n",
      "Test Log Loss: 0.6032\n"
     ]
    }
   ],
   "execution_count": 16
  },
  {
   "metadata": {},
   "cell_type": "markdown",
   "source": "#### Approach 2: Nested cross-validation",
   "id": "9037be873e8fda5e"
  },
  {
   "metadata": {
    "ExecuteTime": {
     "end_time": "2025-03-23T17:01:27.887688Z",
     "start_time": "2025-03-23T17:01:27.862623Z"
    }
   },
   "cell_type": "code",
   "source": [
    "def nested_cv(X, y, param_grid, outer_splits=5, inner_splits=5):\n",
    "    cv_outer = KFold(n_splits=outer_splits, shuffle=True, random_state=42)\n",
    "    \n",
    "    acc_scores = []\n",
    "    log_loss_scores = []\n",
    "    best_params_final = None  \n",
    "    best_log_loss_final = float('inf') \n",
    "    \n",
    "    outer_fold = 0\n",
    "    for tr_outer_idx, te_outer_idx in cv_outer.split(X):\n",
    "        outer_fold += 1\n",
    "        print(f\"Outer fold {outer_fold}/{outer_splits}\")\n",
    "        \n",
    "        X_tr_outer, X_te_outer = X.iloc[tr_outer_idx], X.iloc[te_outer_idx]\n",
    "        y_tr_outer, y_te_outer = y[tr_outer_idx], y[te_outer_idx]\n",
    "        \n",
    "        log_loss_min = float('inf')\n",
    "        best_params = None \n",
    "        \n",
    "        # Inner cross-validation for hyperparameter tuning\n",
    "        cv_inner = KFold(n_splits=inner_splits, shuffle=True, random_state=42)\n",
    "        \n",
    "        for params in param_grid:\n",
    "            log_loss_total = []\n",
    "            acc_total = []\n",
    "            \n",
    "            for tr_inner_idx, te_inner_idx in cv_inner.split(X_tr_outer):\n",
    "                X_tr_inner, X_te_inner = X_tr_outer.iloc[tr_inner_idx], X_tr_outer.iloc[te_inner_idx]\n",
    "                y_tr_inner, y_te_inner = y_tr_outer[tr_inner_idx], y_tr_outer[te_inner_idx]\n",
    "                \n",
    "                model = RandomForestClassifier(**params, random_state=42)\n",
    "                model.fit(X_tr_inner, y_tr_inner)\n",
    "                \n",
    "                y_pred_proba = model.predict_proba(X_te_inner)\n",
    "                y_pred = model.predict(X_te_inner)\n",
    "                \n",
    "                acc_total.append(accuracy_score(y_te_inner, y_pred))\n",
    "                log_loss_total.append(log_loss(y_te_inner, y_pred_proba))\n",
    "            \n",
    "            acc_avg = np.mean(acc_total)\n",
    "            log_loss_avg = np.mean(log_loss_total)\n",
    "            \n",
    "            # Select best parameters based on log loss\n",
    "            if log_loss_avg < log_loss_min:\n",
    "                log_loss_min = log_loss_avg\n",
    "                best_params = params\n",
    "        \n",
    "        # Track the best parameters across all outer folds based on log loss\n",
    "        if log_loss_min < best_log_loss_final:\n",
    "            best_log_loss_final = log_loss_min\n",
    "            best_params_final = best_params\n",
    "        \n",
    "        # Train the best model on the full outer training set\n",
    "        best_model = RandomForestClassifier(**best_params, random_state=42)\n",
    "        best_model.fit(X_tr_outer, y_tr_outer)\n",
    "        \n",
    "        # Evaluate on the outer test set\n",
    "        y_pred_proba = best_model.predict_proba(X_te_outer)\n",
    "        y_pred = best_model.predict(X_te_outer)\n",
    "        \n",
    "        acc_scores.append(accuracy_score(y_te_outer, y_pred))\n",
    "        log_loss_scores.append(log_loss(y_te_outer, y_pred_proba))\n",
    "    \n",
    "    # Compute final accuracy and log loss mean\n",
    "    acc_final_avg = np.mean(acc_scores)\n",
    "    log_loss_final_avg = np.mean(log_loss_scores)\n",
    "    \n",
    "    # Compute standard deviation and log-loss\n",
    "    best_log_loss_std = np.std(log_loss_scores, ddof=1)\n",
    "    \n",
    "    # Compute standard error for accuracy (based on n_test)\n",
    "    acc_se = np.sqrt((acc_final_avg * (1 - acc_final_avg)) / outer_splits)\n",
    "    \n",
    "    # Compute standard error for log-loss (based on the number of outer folds)\n",
    "    log_loss_se = best_log_loss_std / np.sqrt(outer_splits)\n",
    "    \n",
    "    return acc_final_avg, log_loss_final_avg, best_params_final, acc_se, log_loss_se\n"
   ],
   "id": "60724825b09421aa",
   "outputs": [],
   "execution_count": 17
  },
  {
   "metadata": {
    "ExecuteTime": {
     "end_time": "2025-03-23T17:12:29.251661Z",
     "start_time": "2025-03-23T17:01:27.919887Z"
    }
   },
   "cell_type": "code",
   "source": [
    "best_accuracy2, best_log_loss2, best_hyperparams2, best_acc_std2, best_log_loss_std2 = nested_cv(X_train, y_train_encoded, param_combinations)\n",
    "print(\"-----------------------------------------------\")\n",
    "print(\"Nested Cross-Validation Results\")\n",
    "print(f\"Best Hyperparameters: {best_hyperparams2}\")\n",
    "print(f\"Accuracy approximation: {best_accuracy2:.4f} ± {best_acc_std2:.4f}\")\n",
    "print(f\"Log Loss approximation: {best_log_loss2:.4f} ± {best_log_loss_std2:.4f}\")\n",
    "\n",
    "rf2 = RandomForestClassifier(**best_hyperparams2)\n",
    "rf2.fit(X_train, y_train_encoded)\n",
    "\n",
    "y_pred_rf2 = rf2.predict(X_test)\n",
    "y_pred_proba_rf2 = rf2.predict_proba(X_test)\n",
    "rf2_test_accuracy = accuracy_score(y_test_encoded, y_pred_rf2)\n",
    "rf2_test_log_loss = log_loss(y_test_encoded, y_pred_proba_rf2)\n",
    "\n",
    "print(f\"Test Accuracy: {rf2_test_accuracy:.4f}\")\n",
    "print(f\"Test Log Loss: {rf2_test_log_loss:.4f}\")"
   ],
   "id": "b9e65288895968b6",
   "outputs": [
    {
     "name": "stdout",
     "output_type": "stream",
     "text": [
      "Outer fold 1/5\n",
      "Outer fold 2/5\n",
      "Outer fold 3/5\n",
      "Outer fold 4/5\n",
      "Outer fold 5/5\n",
      "-----------------------------------------------\n",
      "Nested Cross-Validation Results\n",
      "Best Hyperparameters: {'n_estimators': 100, 'max_features': 'sqrt', 'max_depth': 10, 'min_samples_split': 10, 'min_samples_leaf': 2}\n",
      "Accuracy approximation: 0.7540 ± 0.1926\n",
      "Log Loss approximation: 0.6424 ± 0.0089\n",
      "Test Accuracy: 0.7752\n",
      "Test Log Loss: 0.6010\n"
     ]
    }
   ],
   "execution_count": 18
  },
  {
   "metadata": {},
   "cell_type": "markdown",
   "source": "## Analysis of results",
   "id": "d3c715106ab8e384"
  },
  {
   "metadata": {
    "ExecuteTime": {
     "end_time": "2025-03-23T17:14:30.130867Z",
     "start_time": "2025-03-23T17:14:29.833299Z"
    }
   },
   "cell_type": "code",
   "source": [
    "models = ['Baseline', 'LR', 'RF (Flat CV)', 'RF (Nested CV)']\n",
    "accuracy = [baseline_accuracy, lr_accuracy, rf1_test_accuracy, rf2_test_accuracy]\n",
    "log_loss = [min(score, 2.5) for score in [baseline_log_score, lr_log_score, rf1_test_log_loss, rf2_test_log_loss]]\n",
    "\n",
    "x = np.arange(len(models))\n",
    "width = 0.35\n",
    "\n",
    "fig, ax = plt.subplots()\n",
    "rects1 = ax.bar(x - width/2, accuracy, width, label='Accuracy', color='lightblue')\n",
    "rects2 = ax.bar(x + width/2, log_loss, width, label='Log Loss', color='lightpink')\n",
    "\n",
    "ax.set_xlabel('Models')\n",
    "ax.set_ylabel('Score')\n",
    "ax.set_title('Model Comparison: Accuracy and Log Loss')\n",
    "ax.set_xticks(x)\n",
    "ax.set_xticklabels(models, ha='center')\n",
    "ax.legend()\n",
    "\n",
    "ax.set_ylim(0, 1.3)\n",
    "\n",
    "def autolabel(rects, original_values):\n",
    "    for rect, original_value in zip(rects, original_values):\n",
    "        height = rect.get_height()\n",
    "        label = '2.5+' if original_value > 2 else f'{round(height, 2)}'\n",
    "        ax.annotate(label,\n",
    "                    xy=(rect.get_x() + rect.get_width() / 2, height),\n",
    "                    xytext=(0, 3),  # 3 points vertical offset\n",
    "                    textcoords=\"offset points\",\n",
    "                    ha='center', va='bottom')\n",
    "\n",
    "autolabel(rects1, accuracy)\n",
    "autolabel(rects2, [baseline_log_score, lr_log_score, rf1_test_log_loss, rf2_test_log_loss])\n",
    "\n",
    "plt.savefig('visualizations/model_comparison.png')\n",
    "\n",
    "plt.show()"
   ],
   "id": "ee577b1a2dc4fb7b",
   "outputs": [
    {
     "data": {
      "text/plain": [
       "<Figure size 640x480 with 1 Axes>"
      ],
      "image/png": "[encoded data removed]"
     },
     "metadata": {},
     "output_type": "display_data"
    }
   ],
   "execution_count": 21
  },
  {
   "metadata": {
    "ExecuteTime": {
     "end_time": "2025-03-23T17:14:34.623176Z",
     "start_time": "2025-03-23T17:14:34.596803Z"
    }
   },
   "cell_type": "code",
   "source": [
    "data_to_save = {\n",
    "    'y_true': y_test_encoded,  \n",
    "    'y_pred_baseline': y_pred_baseline,  # (baseline) model predictions\n",
    "    'y_pred_proba_baseline': y_pred_proba_baseline,  # (baseline) model probabilities\n",
    "    'errors_baseline': (y_pred_baseline != y_test_encoded).astype(int),  # (baseline) model errors\n",
    "    'y_pred_lr': y_pred_lr, \n",
    "    'y_pred_proba_lr': y_pred_proba_lr, \n",
    "    'errors_lr': (y_pred_lr != y_test_encoded).astype(int),  \n",
    "    'y_pred_rf1': y_pred_rf1,  \n",
    "    'y_pred_proba_rf1': y_pred_proba_rf1,\n",
    "    'errors_rf1': (y_pred_rf1 != y_test_encoded).astype(int), \n",
    "    'y_pred_rf2': y_pred_rf2, \n",
    "    'y_pred_proba_rf2': y_pred_proba_rf2,  \n",
    "    'errors_rf2': (y_pred_rf2 != y_test_encoded).astype(int),\n",
    "    'test_indices': X_test.index\n",
    "}\n",
    "\n",
    "with open('all_model_results.pkl', 'wb') as f:\n",
    "    pickle.dump(data_to_save, f)\n",
    "\n",
    "print(\"All model results saved to 'all_model_results.pkl'.\")"
   ],
   "id": "1eaa34e55dbc7e9a",
   "outputs": [
    {
     "name": "stdout",
     "output_type": "stream",
     "text": [
      "All model results saved to 'all_model_results.pkl'.\n"
     ]
    }
   ],
   "execution_count": 22
  }
 ],
 "metadata": {
  "kernelspec": {
   "display_name": "Python 3",
   "language": "python",
   "name": "python3"
  },
  "language_info": {
   "codemirror_mode": {
    "name": "ipython",
    "version": 2
   },
   "file_extension": ".py",
   "mimetype": "text/x-python",
   "name": "python",
   "nbconvert_exporter": "python",
   "pygments_lexer": "ipython2",
   "version": "2.7.6"
  }
 },
 "nbformat": 4,
 "nbformat_minor": 5
}
