{
 "cells": [
  {
   "metadata": {},
   "cell_type": "markdown",
   "source": [
    "# Model evaluation \n",
    "Part 1\n"
   ],
   "id": "5486b28aeafbdf16"
  },
  {
   "cell_type": "code",
   "id": "initial_id",
   "metadata": {
    "collapsed": true,
    "ExecuteTime": {
     "end_time": "2025-03-20T15:20:40.074605Z",
     "start_time": "2025-03-20T15:20:40.067315Z"
    }
   },
   "source": [
    "import pandas as pd\n",
    "import numpy as np\n",
    "from sklearn.dummy import DummyClassifier\n",
    "from sklearn.model_selection import train_test_split\n",
    "from sklearn.preprocessing import LabelEncoder\n",
    "from sklearn.linear_model import LogisticRegression\n",
    "from sklearn.model_selection import GridSearchCV, cross_val_score, KFold\n",
    "from sklearn.ensemble import RandomForestClassifier\n",
    "from itertools import product"
   ],
   "outputs": [],
   "execution_count": 23
  },
  {
   "metadata": {
    "ExecuteTime": {
     "end_time": "2025-03-20T14:03:46.888292Z",
     "start_time": "2025-03-20T14:03:46.807206Z"
    }
   },
   "cell_type": "code",
   "source": [
    "file_path = 'data/dataset.csv'\n",
    "df = pd.read_csv(file_path, sep=';', header=0)\n",
    "\n",
    "df.head()"
   ],
   "id": "7635bf82a8adac97",
   "outputs": [
    {
     "data": {
      "text/plain": [
       "     ShotType Competition PlayerType  Transition  TwoLegged Movement  Angle  \\\n",
       "0  above head         U14          F           1          1       no  73.83   \n",
       "1       layup         U14          F           0          1       no  28.13   \n",
       "2  above head         U14          F           0          1       no  51.88   \n",
       "3  above head         U14          F           1          1       no  80.84   \n",
       "4  above head         U14          F           0          1       no  30.89   \n",
       "\n",
       "   Distance  \n",
       "0      0.73  \n",
       "1      1.02  \n",
       "2      7.22  \n",
       "3      3.64  \n",
       "4      7.20  "
      ],
      "text/html": [
       "<div>\n",
       "<style scoped>\n",
       "    .dataframe tbody tr th:only-of-type {\n",
       "        vertical-align: middle;\n",
       "    }\n",
       "\n",
       "    .dataframe tbody tr th {\n",
       "        vertical-align: top;\n",
       "    }\n",
       "\n",
       "    .dataframe thead th {\n",
       "        text-align: right;\n",
       "    }\n",
       "</style>\n",
       "<table border=\"1\" class=\"dataframe\">\n",
       "  <thead>\n",
       "    <tr style=\"text-align: right;\">\n",
       "      <th></th>\n",
       "      <th>ShotType</th>\n",
       "      <th>Competition</th>\n",
       "      <th>PlayerType</th>\n",
       "      <th>Transition</th>\n",
       "      <th>TwoLegged</th>\n",
       "      <th>Movement</th>\n",
       "      <th>Angle</th>\n",
       "      <th>Distance</th>\n",
       "    </tr>\n",
       "  </thead>\n",
       "  <tbody>\n",
       "    <tr>\n",
       "      <th>0</th>\n",
       "      <td>above head</td>\n",
       "      <td>U14</td>\n",
       "      <td>F</td>\n",
       "      <td>1</td>\n",
       "      <td>1</td>\n",
       "      <td>no</td>\n",
       "      <td>73.83</td>\n",
       "      <td>0.73</td>\n",
       "    </tr>\n",
       "    <tr>\n",
       "      <th>1</th>\n",
       "      <td>layup</td>\n",
       "      <td>U14</td>\n",
       "      <td>F</td>\n",
       "      <td>0</td>\n",
       "      <td>1</td>\n",
       "      <td>no</td>\n",
       "      <td>28.13</td>\n",
       "      <td>1.02</td>\n",
       "    </tr>\n",
       "    <tr>\n",
       "      <th>2</th>\n",
       "      <td>above head</td>\n",
       "      <td>U14</td>\n",
       "      <td>F</td>\n",
       "      <td>0</td>\n",
       "      <td>1</td>\n",
       "      <td>no</td>\n",
       "      <td>51.88</td>\n",
       "      <td>7.22</td>\n",
       "    </tr>\n",
       "    <tr>\n",
       "      <th>3</th>\n",
       "      <td>above head</td>\n",
       "      <td>U14</td>\n",
       "      <td>F</td>\n",
       "      <td>1</td>\n",
       "      <td>1</td>\n",
       "      <td>no</td>\n",
       "      <td>80.84</td>\n",
       "      <td>3.64</td>\n",
       "    </tr>\n",
       "    <tr>\n",
       "      <th>4</th>\n",
       "      <td>above head</td>\n",
       "      <td>U14</td>\n",
       "      <td>F</td>\n",
       "      <td>0</td>\n",
       "      <td>1</td>\n",
       "      <td>no</td>\n",
       "      <td>30.89</td>\n",
       "      <td>7.20</td>\n",
       "    </tr>\n",
       "  </tbody>\n",
       "</table>\n",
       "</div>"
      ]
     },
     "execution_count": 2,
     "metadata": {},
     "output_type": "execute_result"
    }
   ],
   "execution_count": 2
  },
  {
   "metadata": {
    "ExecuteTime": {
     "end_time": "2025-03-20T14:03:47.293849Z",
     "start_time": "2025-03-20T14:03:47.277442Z"
    }
   },
   "cell_type": "code",
   "source": [
    "null_counts = df.isnull().sum()\n",
    "print(null_counts)"
   ],
   "id": "644d3b341d1aeb06",
   "outputs": [
    {
     "name": "stdout",
     "output_type": "stream",
     "text": [
      "ShotType       0\n",
      "Competition    0\n",
      "PlayerType     0\n",
      "Transition     0\n",
      "TwoLegged      0\n",
      "Movement       0\n",
      "Angle          0\n",
      "Distance       0\n",
      "dtype: int64\n"
     ]
    }
   ],
   "execution_count": 3
  },
  {
   "metadata": {
    "ExecuteTime": {
     "end_time": "2025-03-20T14:09:20.152139Z",
     "start_time": "2025-03-20T14:09:20.119523Z"
    }
   },
   "cell_type": "code",
   "source": [
    "categorical_columns = df.select_dtypes(include=['object']).columns\n",
    "unique_classes = df[categorical_columns].nunique()\n",
    "print(\"Number of unique classes in each categorical column:\")\n",
    "print(unique_classes)"
   ],
   "id": "db7cdfb4c89626bc",
   "outputs": [
    {
     "name": "stdout",
     "output_type": "stream",
     "text": [
      "Number of unique classes in each categorical column:\n",
      "ShotType       6\n",
      "Competition    5\n",
      "PlayerType     3\n",
      "Movement       3\n",
      "dtype: int64\n"
     ]
    }
   ],
   "execution_count": 4
  },
  {
   "metadata": {
    "ExecuteTime": {
     "end_time": "2025-03-20T14:09:22.087055Z",
     "start_time": "2025-03-20T14:09:22.054291Z"
    }
   },
   "cell_type": "code",
   "source": [
    "categorical_columns = [\"Competition\", \"PlayerType\", \"Movement\"]\n",
    "df_encoded = pd.get_dummies(df, columns=categorical_columns, drop_first=True)"
   ],
   "id": "6b97d4d880b3bc37",
   "outputs": [],
   "execution_count": 5
  },
  {
   "metadata": {
    "ExecuteTime": {
     "end_time": "2025-03-20T14:09:27.278239Z",
     "start_time": "2025-03-20T14:09:27.254239Z"
    }
   },
   "cell_type": "code",
   "source": [
    "y = df_encoded['ShotType']\n",
    "X = df_encoded.drop(columns=['ShotType'])\n",
    "X_train, X_test, y_train, y_test = train_test_split(X, y, test_size=0.3, random_state=42)"
   ],
   "id": "76c24758986d8fa0",
   "outputs": [],
   "execution_count": 6
  },
  {
   "metadata": {},
   "cell_type": "markdown",
   "source": "### Helper functions",
   "id": "4948694a366afcd6"
  },
  {
   "metadata": {
    "ExecuteTime": {
     "end_time": "2025-03-20T14:09:30.458441Z",
     "start_time": "2025-03-20T14:09:30.434653Z"
    }
   },
   "cell_type": "code",
   "source": [
    "def log_loss(y_true, y_pred):\n",
    "    \"\"\"\n",
    "    Compute the log loss (logarithmic loss) for multiclass classification.\n",
    "\n",
    "    Parameters:\n",
    "    - y_true: True labels (integers representing classes).\n",
    "    - y_pred: Predicted probabilities for each class (2D array).\n",
    "\n",
    "    Returns:\n",
    "    - log_loss: The computed log loss.\n",
    "    \"\"\"\n",
    "    # Clip predicted probabilities to avoid log(0) or log(1)\n",
    "    y_pred = np.clip(y_pred, 1e-15, 1 - 1e-15)\n",
    "    \n",
    "    # Convert y_true to one-hot encoding\n",
    "    y_true_one_hot = np.eye(y_pred.shape[1])[y_true]\n",
    "    \n",
    "    loss = -np.mean(np.sum(y_true_one_hot * np.log(y_pred), axis=1))\n",
    "    \n",
    "    return loss"
   ],
   "id": "400f09adff22281c",
   "outputs": [],
   "execution_count": 7
  },
  {
   "metadata": {
    "ExecuteTime": {
     "end_time": "2025-03-20T14:09:34.599766Z",
     "start_time": "2025-03-20T14:09:34.579546Z"
    }
   },
   "cell_type": "code",
   "source": [
    "def accuracy_score(y_true, y_pred):\n",
    "    \"\"\"\n",
    "    Compute the accuracy score for classification.\n",
    "\n",
    "    Parameters:\n",
    "    - y_true: True labels.\n",
    "    - y_pred: Predicted labels.\n",
    "\n",
    "    Returns:\n",
    "    - accuracy: The computed accuracy score.\n",
    "    \"\"\"\n",
    "    correct = np.sum(y_true == y_pred)\n",
    "    \n",
    "    accuracy = correct / len(y_true)\n",
    "    \n",
    "    return accuracy"
   ],
   "id": "c955c2267124b1cd",
   "outputs": [],
   "execution_count": 8
  },
  {
   "metadata": {},
   "cell_type": "markdown",
   "source": "## Comparison of Three Machine Learning Models",
   "id": "e15dcebd59863c8d"
  },
  {
   "metadata": {
    "ExecuteTime": {
     "end_time": "2025-03-20T14:10:12.052500Z",
     "start_time": "2025-03-20T14:10:12.027819Z"
    }
   },
   "cell_type": "code",
   "source": [
    "# Converting the output string labels to integers\n",
    "label_encoder = LabelEncoder()\n",
    "y_train_encoded = label_encoder.fit_transform(y_train)\n",
    "y_test_encoded = label_encoder.transform(y_test)"
   ],
   "id": "1ad3d99ac1229000",
   "outputs": [],
   "execution_count": 9
  },
  {
   "metadata": {},
   "cell_type": "markdown",
   "source": [
    "### 1. Baseline model\n",
    "Learns and Predicts the Relative Frequencies of Classes"
   ],
   "id": "a210aa3bedb1e2f2"
  },
  {
   "metadata": {
    "ExecuteTime": {
     "end_time": "2025-03-19T22:05:01.759876Z",
     "start_time": "2025-03-19T22:05:01.735134Z"
    }
   },
   "cell_type": "code",
   "source": [
    "baseline_model = DummyClassifier(strategy=\"stratified\")\n",
    "baseline_model.fit(X_train, y_train_encoded)\n",
    "\n",
    "y_pred = baseline_model.predict(X_test)\n",
    "y_pred_proba = baseline_model.predict_proba(X_test)\n",
    "\n",
    "accuracy = accuracy_score(y_test_encoded, y_pred)\n",
    "log_score = log_loss(y_test_encoded, y_pred_proba)\n",
    "\n",
    "print(f\"Accuracy: {accuracy}\")\n",
    "print(f\"Log Loss: {log_score}\")"
   ],
   "id": "53b56475cc2e7d98",
   "outputs": [
    {
     "name": "stdout",
     "output_type": "stream",
     "text": [
      "Accuracy: 0.4336870026525199\n",
      "Log Loss: 20.086543036032275\n"
     ]
    }
   ],
   "execution_count": 102
  },
  {
   "metadata": {},
   "cell_type": "markdown",
   "source": "### 2. Logistic Regression",
   "id": "2f4f119544543685"
  },
  {
   "metadata": {
    "ExecuteTime": {
     "end_time": "2025-03-20T14:11:02.851311Z",
     "start_time": "2025-03-20T14:11:00.422572Z"
    }
   },
   "cell_type": "code",
   "source": [
    "log_reg = LogisticRegression(max_iter=1500)  \n",
    "log_reg.fit(X_train, y_train_encoded)\n",
    "\n",
    "y_pred = log_reg.predict(X_test)\n",
    "y_pred_proba = log_reg.predict_proba(X_test)\n",
    "\n",
    "accuracy = accuracy_score(y_test_encoded, y_pred)\n",
    "log_score = log_loss(y_test_encoded, y_pred_proba)\n",
    "\n",
    "print(f\"Accuracy: {accuracy}\")\n",
    "print(f\"Log Loss: {log_score}\")"
   ],
   "id": "e23f9deb2433477a",
   "outputs": [
    {
     "name": "stdout",
     "output_type": "stream",
     "text": [
      "Accuracy: 0.7427055702917772\n",
      "Log Loss: 0.6514255329754493\n"
     ]
    }
   ],
   "execution_count": 10
  },
  {
   "metadata": {},
   "cell_type": "markdown",
   "source": "### 3. Random Forest",
   "id": "7fb9f9309f50fecb"
  },
  {
   "metadata": {
    "ExecuteTime": {
     "end_time": "2025-03-20T15:21:22.421710Z",
     "start_time": "2025-03-20T15:21:22.406327Z"
    }
   },
   "cell_type": "code",
   "source": [
    "model = RandomForestClassifier(random_state=42)\n",
    "param_grid = {\n",
    "    'n_estimators': [10, 50, 100],\n",
    "    'max_features': ['sqrt', 'log2'],\n",
    "    'max_depth': [10, 20],\n",
    "    'min_samples_split': [2, 5, 10],\n",
    "    'min_samples_leaf': [1, 2, 4]\n",
    "}\n",
    "\n",
    "# to generate all combinations of hyperparameters\n",
    "keys, values = zip(*param_grid.items())\n",
    "param_combinations = [dict(zip(keys, v)) for v in product(*values)]\n"
   ],
   "id": "d5fd604e696a63e",
   "outputs": [],
   "execution_count": 24
  },
  {
   "metadata": {},
   "cell_type": "markdown",
   "source": "#### Approach 1: Optimizing training fold performance",
   "id": "a06b11d6e3300970"
  },
  {
   "metadata": {
    "ExecuteTime": {
     "end_time": "2025-03-20T15:21:23.356898Z",
     "start_time": "2025-03-20T15:21:23.346882Z"
    }
   },
   "cell_type": "code",
   "source": [
    "def flat_cv(X, y, param_grid, n_splits=5):\n",
    "    cv = KFold(n_splits=n_splits)\n",
    "    acc_max = 0.0\n",
    "    log_loss_min = float('inf')\n",
    "    best_params = None\n",
    "    \n",
    "    for params in param_grid:\n",
    "        acc = 0.0\n",
    "        log_loss_total = 0.0\n",
    "        \n",
    "        for train_idx, test_idx in cv.split(X):\n",
    "            X_train_cv, X_test_cv = X.iloc[train_idx], X.iloc[test_idx]\n",
    "            y_train_cv, y_test_cv = y[train_idx], y[test_idx]\n",
    "            \n",
    "            model = RandomForestClassifier(**params)\n",
    "            model.fit(X_train_cv, y_train_cv)\n",
    "            \n",
    "            y_pred_proba = model.predict_proba(X_test_cv)\n",
    "            y_pred = model.predict(X_test_cv)\n",
    "            \n",
    "            acc += accuracy_score(y_test_cv, y_pred)\n",
    "            log_loss_total += log_loss(y_test_cv, y_pred_proba)\n",
    "        \n",
    "        acc_avg = acc / n_splits\n",
    "        log_loss_avg = log_loss_total / n_splits\n",
    "        \n",
    "        # Check if this is the best model based on log loss\n",
    "        if log_loss_avg < log_loss_min:\n",
    "            log_loss_min = log_loss_avg\n",
    "            acc_max = acc_avg\n",
    "            best_params = params\n",
    "    \n",
    "    return acc_max, log_loss_min, best_params"
   ],
   "id": "d030c19023979e8e",
   "outputs": [],
   "execution_count": 25
  },
  {
   "metadata": {
    "ExecuteTime": {
     "end_time": "2025-03-20T15:23:25.444867Z",
     "start_time": "2025-03-20T15:21:25.202893Z"
    }
   },
   "cell_type": "code",
   "source": [
    "best_accuracy, best_log_loss, best_hyperparams = flat_cv(X_train, y_train_encoded, param_combinations)\n",
    "print(f\"Best Accuracy: {best_accuracy}\")\n",
    "print(f\"Best Log Loss: {best_log_loss}\")\n",
    "print(f\"Best Hyperparameters: {best_hyperparams}\")\n",
    "\n",
    "# Train the final model with the best hyperparameters on the entire training set\n",
    "final_model = RandomForestClassifier(**best_hyperparams)\n",
    "final_model.fit(X_train, y_train_encoded)\n",
    "\n",
    "# Evaluate on the test set\n",
    "y_test_pred = final_model.predict(X_test)\n",
    "y_test_pred_proba = final_model.predict_proba(X_test)\n",
    "test_accuracy = accuracy_score(y_test_encoded, y_test_pred)\n",
    "test_log_loss = log_loss(y_test_encoded, y_test_pred_proba)\n",
    "\n",
    "print(f\"Test Accuracy: {test_accuracy}\")\n",
    "print(f\"Test Log Loss: {test_log_loss}\")"
   ],
   "id": "d5d80cd2fe269ea0",
   "outputs": [
    {
     "name": "stdout",
     "output_type": "stream",
     "text": [
      "Best Accuracy: 0.7596748512866933\n",
      "Best Log Loss: 0.6355365048802055\n",
      "Best Hyperparameters: {'n_estimators': 100, 'max_features': 'sqrt', 'max_depth': 10, 'min_samples_split': 10, 'min_samples_leaf': 1}\n",
      "Test Accuracy: 0.7718832891246684\n",
      "Test Log Loss: 0.6016953389650355\n"
     ]
    }
   ],
   "execution_count": 26
  },
  {
   "metadata": {},
   "cell_type": "markdown",
   "source": "#### Approach 2: Nested cross-validation",
   "id": "9037be873e8fda5e"
  },
  {
   "metadata": {},
   "cell_type": "code",
   "outputs": [],
   "execution_count": null,
   "source": [
    "for train_idx, test_idx in outer_cv.split(X_train):\n",
    "    X_train_cv, X_test_cv = X_train.iloc[train_idx], X_train.iloc[test_idx]\n",
    "    y_train_cv, y_test_cv = y_train_encoded[train_idx], y_train_encoded[test_idx]\n",
    "    \n",
    "    # Inner cross-validation for parameter tuning\n",
    "    grid_search = GridSearchCV(model, param_grid, cv=inner_cv, scoring='neg_log_loss')\n",
    "    grid_search.fit(X_train_cv, y_train_cv)\n",
    "    \n",
    "    # Best model from inner CV\n",
    "    best_model = grid_search.best_estimator_\n",
    "    \n",
    "    # Evaluate on the test fold\n",
    "    y_pred_prob = best_model.predict_proba(X_test_cv)\n",
    "    y_pred = best_model.predict(X_test_cv)\n",
    "    \n",
    "    # Store metrics\n",
    "    results['nested_cv']['log_loss'].append(log_loss(y_test_cv, y_pred_prob))\n",
    "    results['nested_cv']['accuracy'].append(accuracy_score(y_test_cv, y_pred))"
   ],
   "id": "60724825b09421aa"
  },
  {
   "metadata": {},
   "cell_type": "markdown",
   "source": "## Analysis of results",
   "id": "d3c715106ab8e384"
  },
  {
   "metadata": {},
   "cell_type": "code",
   "outputs": [],
   "execution_count": null,
   "source": [
    "# Compute mean and standard deviation of metrics\n",
    "for approach in results:\n",
    "    for metric in results[approach]:\n",
    "        mean_score = np.mean(results[approach][metric])\n",
    "        std_score = np.std(results[approach][metric])\n",
    "        print(f\"{approach} - {metric}: Mean = {mean_score:.4f}, Std = {std_score:.4f}\")"
   ],
   "id": "ee577b1a2dc4fb7b"
  }
 ],
 "metadata": {
  "kernelspec": {
   "display_name": "Python 3",
   "language": "python",
   "name": "python3"
  },
  "language_info": {
   "codemirror_mode": {
    "name": "ipython",
    "version": 2
   },
   "file_extension": ".py",
   "mimetype": "text/x-python",
   "name": "python",
   "nbconvert_exporter": "python",
   "pygments_lexer": "ipython2",
   "version": "2.7.6"
  }
 },
 "nbformat": 4,
 "nbformat_minor": 5
}
