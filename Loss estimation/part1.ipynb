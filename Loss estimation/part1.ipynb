{
 "cells": [
  {
   "metadata": {},
   "cell_type": "markdown",
   "source": [
    "# Model evaluation \n",
    "Part 1\n"
   ],
   "id": "5486b28aeafbdf16"
  },
  {
   "cell_type": "code",
   "id": "initial_id",
   "metadata": {
    "collapsed": true,
    "ExecuteTime": {
     "end_time": "2025-03-19T21:19:56.196175Z",
     "start_time": "2025-03-19T21:19:56.186524Z"
    }
   },
   "source": [
    "import pandas as pd\n",
    "import numpy as np\n",
    "from sklearn.dummy import DummyClassifier\n",
    "from sklearn.model_selection import train_test_split\n",
    "from sklearn.preprocessing import LabelEncoder\n",
    "from sklearn.linear_model import LogisticRegression"
   ],
   "outputs": [],
   "execution_count": 67
  },
  {
   "metadata": {
    "ExecuteTime": {
     "end_time": "2025-03-19T21:19:56.386690Z",
     "start_time": "2025-03-19T21:19:56.354169Z"
    }
   },
   "cell_type": "code",
   "source": [
    "file_path = 'data/dataset.csv'\n",
    "df = pd.read_csv(file_path, sep=';', header=0)\n",
    "\n",
    "df.head()"
   ],
   "id": "7635bf82a8adac97",
   "outputs": [
    {
     "data": {
      "text/plain": [
       "     ShotType Competition PlayerType  Transition  TwoLegged Movement  Angle  \\\n",
       "0  above head         U14          F           1          1       no  73.83   \n",
       "1       layup         U14          F           0          1       no  28.13   \n",
       "2  above head         U14          F           0          1       no  51.88   \n",
       "3  above head         U14          F           1          1       no  80.84   \n",
       "4  above head         U14          F           0          1       no  30.89   \n",
       "\n",
       "   Distance  \n",
       "0      0.73  \n",
       "1      1.02  \n",
       "2      7.22  \n",
       "3      3.64  \n",
       "4      7.20  "
      ],
      "text/html": [
       "<div>\n",
       "<style scoped>\n",
       "    .dataframe tbody tr th:only-of-type {\n",
       "        vertical-align: middle;\n",
       "    }\n",
       "\n",
       "    .dataframe tbody tr th {\n",
       "        vertical-align: top;\n",
       "    }\n",
       "\n",
       "    .dataframe thead th {\n",
       "        text-align: right;\n",
       "    }\n",
       "</style>\n",
       "<table border=\"1\" class=\"dataframe\">\n",
       "  <thead>\n",
       "    <tr style=\"text-align: right;\">\n",
       "      <th></th>\n",
       "      <th>ShotType</th>\n",
       "      <th>Competition</th>\n",
       "      <th>PlayerType</th>\n",
       "      <th>Transition</th>\n",
       "      <th>TwoLegged</th>\n",
       "      <th>Movement</th>\n",
       "      <th>Angle</th>\n",
       "      <th>Distance</th>\n",
       "    </tr>\n",
       "  </thead>\n",
       "  <tbody>\n",
       "    <tr>\n",
       "      <th>0</th>\n",
       "      <td>above head</td>\n",
       "      <td>U14</td>\n",
       "      <td>F</td>\n",
       "      <td>1</td>\n",
       "      <td>1</td>\n",
       "      <td>no</td>\n",
       "      <td>73.83</td>\n",
       "      <td>0.73</td>\n",
       "    </tr>\n",
       "    <tr>\n",
       "      <th>1</th>\n",
       "      <td>layup</td>\n",
       "      <td>U14</td>\n",
       "      <td>F</td>\n",
       "      <td>0</td>\n",
       "      <td>1</td>\n",
       "      <td>no</td>\n",
       "      <td>28.13</td>\n",
       "      <td>1.02</td>\n",
       "    </tr>\n",
       "    <tr>\n",
       "      <th>2</th>\n",
       "      <td>above head</td>\n",
       "      <td>U14</td>\n",
       "      <td>F</td>\n",
       "      <td>0</td>\n",
       "      <td>1</td>\n",
       "      <td>no</td>\n",
       "      <td>51.88</td>\n",
       "      <td>7.22</td>\n",
       "    </tr>\n",
       "    <tr>\n",
       "      <th>3</th>\n",
       "      <td>above head</td>\n",
       "      <td>U14</td>\n",
       "      <td>F</td>\n",
       "      <td>1</td>\n",
       "      <td>1</td>\n",
       "      <td>no</td>\n",
       "      <td>80.84</td>\n",
       "      <td>3.64</td>\n",
       "    </tr>\n",
       "    <tr>\n",
       "      <th>4</th>\n",
       "      <td>above head</td>\n",
       "      <td>U14</td>\n",
       "      <td>F</td>\n",
       "      <td>0</td>\n",
       "      <td>1</td>\n",
       "      <td>no</td>\n",
       "      <td>30.89</td>\n",
       "      <td>7.20</td>\n",
       "    </tr>\n",
       "  </tbody>\n",
       "</table>\n",
       "</div>"
      ]
     },
     "execution_count": 68,
     "metadata": {},
     "output_type": "execute_result"
    }
   ],
   "execution_count": 68
  },
  {
   "metadata": {
    "ExecuteTime": {
     "end_time": "2025-03-19T21:19:56.535105Z",
     "start_time": "2025-03-19T21:19:56.519611Z"
    }
   },
   "cell_type": "code",
   "source": [
    "null_counts = df.isnull().sum()\n",
    "print(null_counts)"
   ],
   "id": "644d3b341d1aeb06",
   "outputs": [
    {
     "name": "stdout",
     "output_type": "stream",
     "text": [
      "ShotType       0\n",
      "Competition    0\n",
      "PlayerType     0\n",
      "Transition     0\n",
      "TwoLegged      0\n",
      "Movement       0\n",
      "Angle          0\n",
      "Distance       0\n",
      "dtype: int64\n"
     ]
    }
   ],
   "execution_count": 69
  },
  {
   "metadata": {
    "ExecuteTime": {
     "end_time": "2025-03-19T21:19:56.783289Z",
     "start_time": "2025-03-19T21:19:56.758998Z"
    }
   },
   "cell_type": "code",
   "source": [
    "categorical_columns = df.select_dtypes(include=['object']).columns\n",
    "unique_classes = df[categorical_columns].nunique()\n",
    "print(\"Number of unique classes in each categorical column:\")\n",
    "print(unique_classes)"
   ],
   "id": "db7cdfb4c89626bc",
   "outputs": [
    {
     "name": "stdout",
     "output_type": "stream",
     "text": [
      "Number of unique classes in each categorical column:\n",
      "ShotType       6\n",
      "Competition    5\n",
      "PlayerType     3\n",
      "Movement       3\n",
      "dtype: int64\n"
     ]
    }
   ],
   "execution_count": 70
  },
  {
   "metadata": {
    "ExecuteTime": {
     "end_time": "2025-03-19T21:19:56.969775Z",
     "start_time": "2025-03-19T21:19:56.954818Z"
    }
   },
   "cell_type": "code",
   "source": [
    "categorical_columns = [\"Competition\", \"PlayerType\", \"Movement\"]\n",
    "df_encoded = pd.get_dummies(df, columns=categorical_columns, drop_first=True)"
   ],
   "id": "6b97d4d880b3bc37",
   "outputs": [],
   "execution_count": 71
  },
  {
   "metadata": {
    "ExecuteTime": {
     "end_time": "2025-03-19T21:19:57.366800Z",
     "start_time": "2025-03-19T21:19:57.345136Z"
    }
   },
   "cell_type": "code",
   "source": [
    "y = df_encoded['ShotType']\n",
    "X = df_encoded.drop(columns=['ShotType'])\n",
    "X_train, X_test, y_train, y_test = train_test_split(X, y, test_size=0.3, random_state=42)"
   ],
   "id": "76c24758986d8fa0",
   "outputs": [],
   "execution_count": 74
  },
  {
   "metadata": {},
   "cell_type": "markdown",
   "source": "### Helper functions",
   "id": "4948694a366afcd6"
  },
  {
   "metadata": {
    "ExecuteTime": {
     "end_time": "2025-03-19T21:19:57.686957Z",
     "start_time": "2025-03-19T21:19:57.675288Z"
    }
   },
   "cell_type": "code",
   "source": [
    "def log_loss(y_true, y_pred):\n",
    "    \"\"\"\n",
    "    Compute the log loss (logarithmic loss) for multiclass classification.\n",
    "\n",
    "    Parameters:\n",
    "    - y_true: True labels (integers representing classes).\n",
    "    - y_pred: Predicted probabilities for each class (2D array).\n",
    "\n",
    "    Returns:\n",
    "    - log_loss: The computed log loss.\n",
    "    \"\"\"\n",
    "    # Clip predicted probabilities to avoid log(0) or log(1)\n",
    "    y_pred = np.clip(y_pred, 1e-15, 1 - 1e-15)\n",
    "    \n",
    "    # Convert y_true to one-hot encoding\n",
    "    y_true_one_hot = np.eye(y_pred.shape[1])[y_true]\n",
    "    \n",
    "    loss = -np.mean(np.sum(y_true_one_hot * np.log(y_pred), axis=1))\n",
    "    \n",
    "    return loss"
   ],
   "id": "400f09adff22281c",
   "outputs": [],
   "execution_count": 75
  },
  {
   "metadata": {
    "ExecuteTime": {
     "end_time": "2025-03-19T21:19:57.885134Z",
     "start_time": "2025-03-19T21:19:57.864808Z"
    }
   },
   "cell_type": "code",
   "source": [
    "def accuracy_score(y_true, y_pred):\n",
    "    \"\"\"\n",
    "    Compute the accuracy score for classification.\n",
    "\n",
    "    Parameters:\n",
    "    - y_true: True labels.\n",
    "    - y_pred: Predicted labels.\n",
    "\n",
    "    Returns:\n",
    "    - accuracy: The computed accuracy score.\n",
    "    \"\"\"\n",
    "    correct = np.sum(y_true == y_pred)\n",
    "    \n",
    "    accuracy = correct / len(y_true)\n",
    "    \n",
    "    return accuracy"
   ],
   "id": "c955c2267124b1cd",
   "outputs": [],
   "execution_count": 76
  },
  {
   "metadata": {},
   "cell_type": "markdown",
   "source": "### Compare 3 models",
   "id": "e15dcebd59863c8d"
  },
  {
   "metadata": {},
   "cell_type": "markdown",
   "source": "#### 1. Baseline - learns and predicts the relative frequencies of classes",
   "id": "a210aa3bedb1e2f2"
  },
  {
   "metadata": {
    "ExecuteTime": {
     "end_time": "2025-03-19T21:19:58.376777Z",
     "start_time": "2025-03-19T21:19:58.360440Z"
    }
   },
   "cell_type": "code",
   "source": [
    "# Convert string labels to integers\n",
    "label_encoder = LabelEncoder()\n",
    "y_train_encoded = label_encoder.fit_transform(y_train)\n",
    "y_test_encoded = label_encoder.transform(y_test)"
   ],
   "id": "1ad3d99ac1229000",
   "outputs": [],
   "execution_count": 77
  },
  {
   "metadata": {
    "ExecuteTime": {
     "end_time": "2025-03-19T21:19:58.581577Z",
     "start_time": "2025-03-19T21:19:58.560681Z"
    }
   },
   "cell_type": "code",
   "source": [
    "baseline_model = DummyClassifier(strategy=\"stratified\")\n",
    "baseline_model.fit(X_train, y_train_encoded)\n",
    "\n",
    "y_pred = baseline_model.predict(X_test)\n",
    "y_pred_proba = baseline_model.predict_proba(X_test)\n",
    "\n",
    "accuracy = accuracy_score(y_test_encoded, y_pred)\n",
    "log_score = log_loss(y_test_encoded, y_pred_proba)\n",
    "\n",
    "print(f\"Accuracy: {accuracy}\")\n",
    "print(f\"Log Loss: {log_score}\")"
   ],
   "id": "53b56475cc2e7d98",
   "outputs": [
    {
     "name": "stdout",
     "output_type": "stream",
     "text": [
      "Accuracy: 0.42639257294429705\n",
      "Log Loss: 19.811698661536962\n"
     ]
    }
   ],
   "execution_count": 78
  },
  {
   "metadata": {},
   "cell_type": "markdown",
   "source": "#### 2. Logistic Regression",
   "id": "2f4f119544543685"
  },
  {
   "metadata": {
    "ExecuteTime": {
     "end_time": "2025-03-19T21:20:01.503558Z",
     "start_time": "2025-03-19T21:19:59.223657Z"
    }
   },
   "cell_type": "code",
   "source": [
    "log_reg = LogisticRegression(max_iter=1500)  \n",
    "log_reg.fit(X_train, y_train_encoded)\n",
    "\n",
    "y_pred = log_reg.predict(X_test)\n",
    "y_pred_proba = log_reg.predict_proba(X_test)\n",
    "\n",
    "accuracy = accuracy_score(y_test_encoded, y_pred)\n",
    "log_score = log_loss(y_test_encoded, y_pred_proba)\n",
    "\n",
    "print(f\"Accuracy: {accuracy}\")\n",
    "print(f\"Log Loss: {log_score}\")"
   ],
   "id": "e23f9deb2433477a",
   "outputs": [
    {
     "name": "stdout",
     "output_type": "stream",
     "text": [
      "Accuracy: 0.7427055702917772\n",
      "Log Loss: 0.6514255329754493\n"
     ]
    }
   ],
   "execution_count": 80
  }
 ],
 "metadata": {
  "kernelspec": {
   "display_name": "Python 3",
   "language": "python",
   "name": "python3"
  },
  "language_info": {
   "codemirror_mode": {
    "name": "ipython",
    "version": 2
   },
   "file_extension": ".py",
   "mimetype": "text/x-python",
   "name": "python",
   "nbconvert_exporter": "python",
   "pygments_lexer": "ipython2",
   "version": "2.7.6"
  }
 },
 "nbformat": 4,
 "nbformat_minor": 5
}
