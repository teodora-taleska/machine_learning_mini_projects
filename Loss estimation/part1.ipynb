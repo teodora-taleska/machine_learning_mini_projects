{
 "cells": [
  {
   "metadata": {},
   "cell_type": "markdown",
   "source": [
    "# Model evaluation \n",
    "Part 1\n"
   ],
   "id": "5486b28aeafbdf16"
  },
  {
   "cell_type": "code",
   "id": "initial_id",
   "metadata": {
    "collapsed": true,
    "ExecuteTime": {
     "end_time": "2025-03-19T14:46:28.033981Z",
     "start_time": "2025-03-19T14:46:26.668122Z"
    }
   },
   "source": [
    "import pandas as pd\n",
    "import numpy as np"
   ],
   "outputs": [],
   "execution_count": 2
  },
  {
   "metadata": {
    "ExecuteTime": {
     "end_time": "2025-03-19T14:46:28.113337Z",
     "start_time": "2025-03-19T14:46:28.044289Z"
    }
   },
   "cell_type": "code",
   "source": [
    "file_path = 'data/dataset.csv'\n",
    "df = pd.read_csv(file_path, sep=';', header=0)\n",
    "\n",
    "df.head()"
   ],
   "id": "7635bf82a8adac97",
   "outputs": [
    {
     "data": {
      "text/plain": [
       "     ShotType Competition PlayerType  Transition  TwoLegged Movement  Angle  \\\n",
       "0  above head         U14          F           1          1       no  73.83   \n",
       "1       layup         U14          F           0          1       no  28.13   \n",
       "2  above head         U14          F           0          1       no  51.88   \n",
       "3  above head         U14          F           1          1       no  80.84   \n",
       "4  above head         U14          F           0          1       no  30.89   \n",
       "\n",
       "   Distance  \n",
       "0      0.73  \n",
       "1      1.02  \n",
       "2      7.22  \n",
       "3      3.64  \n",
       "4      7.20  "
      ],
      "text/html": [
       "<div>\n",
       "<style scoped>\n",
       "    .dataframe tbody tr th:only-of-type {\n",
       "        vertical-align: middle;\n",
       "    }\n",
       "\n",
       "    .dataframe tbody tr th {\n",
       "        vertical-align: top;\n",
       "    }\n",
       "\n",
       "    .dataframe thead th {\n",
       "        text-align: right;\n",
       "    }\n",
       "</style>\n",
       "<table border=\"1\" class=\"dataframe\">\n",
       "  <thead>\n",
       "    <tr style=\"text-align: right;\">\n",
       "      <th></th>\n",
       "      <th>ShotType</th>\n",
       "      <th>Competition</th>\n",
       "      <th>PlayerType</th>\n",
       "      <th>Transition</th>\n",
       "      <th>TwoLegged</th>\n",
       "      <th>Movement</th>\n",
       "      <th>Angle</th>\n",
       "      <th>Distance</th>\n",
       "    </tr>\n",
       "  </thead>\n",
       "  <tbody>\n",
       "    <tr>\n",
       "      <th>0</th>\n",
       "      <td>above head</td>\n",
       "      <td>U14</td>\n",
       "      <td>F</td>\n",
       "      <td>1</td>\n",
       "      <td>1</td>\n",
       "      <td>no</td>\n",
       "      <td>73.83</td>\n",
       "      <td>0.73</td>\n",
       "    </tr>\n",
       "    <tr>\n",
       "      <th>1</th>\n",
       "      <td>layup</td>\n",
       "      <td>U14</td>\n",
       "      <td>F</td>\n",
       "      <td>0</td>\n",
       "      <td>1</td>\n",
       "      <td>no</td>\n",
       "      <td>28.13</td>\n",
       "      <td>1.02</td>\n",
       "    </tr>\n",
       "    <tr>\n",
       "      <th>2</th>\n",
       "      <td>above head</td>\n",
       "      <td>U14</td>\n",
       "      <td>F</td>\n",
       "      <td>0</td>\n",
       "      <td>1</td>\n",
       "      <td>no</td>\n",
       "      <td>51.88</td>\n",
       "      <td>7.22</td>\n",
       "    </tr>\n",
       "    <tr>\n",
       "      <th>3</th>\n",
       "      <td>above head</td>\n",
       "      <td>U14</td>\n",
       "      <td>F</td>\n",
       "      <td>1</td>\n",
       "      <td>1</td>\n",
       "      <td>no</td>\n",
       "      <td>80.84</td>\n",
       "      <td>3.64</td>\n",
       "    </tr>\n",
       "    <tr>\n",
       "      <th>4</th>\n",
       "      <td>above head</td>\n",
       "      <td>U14</td>\n",
       "      <td>F</td>\n",
       "      <td>0</td>\n",
       "      <td>1</td>\n",
       "      <td>no</td>\n",
       "      <td>30.89</td>\n",
       "      <td>7.20</td>\n",
       "    </tr>\n",
       "  </tbody>\n",
       "</table>\n",
       "</div>"
      ]
     },
     "execution_count": 3,
     "metadata": {},
     "output_type": "execute_result"
    }
   ],
   "execution_count": 3
  },
  {
   "metadata": {
    "ExecuteTime": {
     "end_time": "2025-03-19T14:49:02.925107Z",
     "start_time": "2025-03-19T14:49:02.903723Z"
    }
   },
   "cell_type": "code",
   "source": [
    "null_counts = df.isnull().sum()\n",
    "print(null_counts)"
   ],
   "id": "644d3b341d1aeb06",
   "outputs": [
    {
     "name": "stdout",
     "output_type": "stream",
     "text": [
      "ShotType       0\n",
      "Competition    0\n",
      "PlayerType     0\n",
      "Transition     0\n",
      "TwoLegged      0\n",
      "Movement       0\n",
      "Angle          0\n",
      "Distance       0\n",
      "dtype: int64\n"
     ]
    }
   ],
   "execution_count": 7
  },
  {
   "metadata": {},
   "cell_type": "markdown",
   "source": "### Helper functions",
   "id": "4948694a366afcd6"
  },
  {
   "metadata": {},
   "cell_type": "code",
   "outputs": [],
   "execution_count": null,
   "source": [
    "def log_loss(y_true, y_pred):\n",
    "    \"\"\"\n",
    "    Compute the log loss (logarithmic loss) for binary classification.\n",
    "\n",
    "    Parameters:\n",
    "    - y_true: True labels (0 or 1).\n",
    "    - y_pred: Predicted probabilities (between 0 and 1).\n",
    "\n",
    "    Returns:\n",
    "    - log_loss: The computed log loss.\n",
    "    \"\"\"\n",
    "    # Clip predicted probabilities to avoid log(0) or log(1)\n",
    "    y_pred = np.clip(y_pred, 1e-15, 1 - 1e-15)\n",
    "    \n",
    "    loss = -np.mean(y_true * np.log(y_pred) + (1 - y_true) * np.log(1 - y_pred))\n",
    "    \n",
    "    return loss"
   ],
   "id": "400f09adff22281c"
  },
  {
   "metadata": {},
   "cell_type": "code",
   "outputs": [],
   "execution_count": null,
   "source": [
    "def accuracy_score(y_true, y_pred):\n",
    "    \"\"\"\n",
    "    Compute the accuracy score for classification.\n",
    "\n",
    "    Parameters:\n",
    "    - y_true: True labels.\n",
    "    - y_pred: Predicted labels.\n",
    "\n",
    "    Returns:\n",
    "    - accuracy: The computed accuracy score.\n",
    "    \"\"\"\n",
    "    # Check if predictions match true labels\n",
    "    correct = np.sum(y_true == y_pred)\n",
    "    \n",
    "    accuracy = correct / len(y_true)\n",
    "    \n",
    "    return accuracy"
   ],
   "id": "c955c2267124b1cd"
  }
 ],
 "metadata": {
  "kernelspec": {
   "display_name": "Python 3",
   "language": "python",
   "name": "python3"
  },
  "language_info": {
   "codemirror_mode": {
    "name": "ipython",
    "version": 2
   },
   "file_extension": ".py",
   "mimetype": "text/x-python",
   "name": "python",
   "nbconvert_exporter": "python",
   "pygments_lexer": "ipython2",
   "version": "2.7.6"
  }
 },
 "nbformat": 4,
 "nbformat_minor": 5
}
