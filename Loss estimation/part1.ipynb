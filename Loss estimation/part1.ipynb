{
 "cells": [
  {
   "metadata": {},
   "cell_type": "markdown",
   "source": [
    "# Model evaluation \n",
    "Part 1\n"
   ],
   "id": "5486b28aeafbdf16"
  },
  {
   "cell_type": "code",
   "id": "initial_id",
   "metadata": {
    "collapsed": true,
    "ExecuteTime": {
     "end_time": "2025-03-22T10:05:50.547393Z",
     "start_time": "2025-03-22T10:05:47.435667Z"
    }
   },
   "source": [
    "import pandas as pd\n",
    "import numpy as np\n",
    "from sklearn.dummy import DummyClassifier\n",
    "from sklearn.model_selection import train_test_split\n",
    "from sklearn.preprocessing import LabelEncoder\n",
    "from sklearn.linear_model import LogisticRegression\n",
    "from sklearn.model_selection import GridSearchCV, cross_val_score, KFold\n",
    "from sklearn.ensemble import RandomForestClassifier\n",
    "from itertools import product\n",
    "import matplotlib.pyplot as plt\n",
    "import pickle\n",
    "from scipy.stats import norm"
   ],
   "outputs": [],
   "execution_count": 1
  },
  {
   "metadata": {
    "ExecuteTime": {
     "end_time": "2025-03-22T10:05:50.613699Z",
     "start_time": "2025-03-22T10:05:50.566236Z"
    }
   },
   "cell_type": "code",
   "source": [
    "file_path = 'data/dataset.csv'\n",
    "df = pd.read_csv(file_path, sep=';', header=0)\n",
    "\n",
    "df.head()"
   ],
   "id": "7635bf82a8adac97",
   "outputs": [
    {
     "data": {
      "text/plain": [
       "     ShotType Competition PlayerType  Transition  TwoLegged Movement  Angle  \\\n",
       "0  above head         U14          F           1          1       no  73.83   \n",
       "1       layup         U14          F           0          1       no  28.13   \n",
       "2  above head         U14          F           0          1       no  51.88   \n",
       "3  above head         U14          F           1          1       no  80.84   \n",
       "4  above head         U14          F           0          1       no  30.89   \n",
       "\n",
       "   Distance  \n",
       "0      0.73  \n",
       "1      1.02  \n",
       "2      7.22  \n",
       "3      3.64  \n",
       "4      7.20  "
      ],
      "text/html": [
       "<div>\n",
       "<style scoped>\n",
       "    .dataframe tbody tr th:only-of-type {\n",
       "        vertical-align: middle;\n",
       "    }\n",
       "\n",
       "    .dataframe tbody tr th {\n",
       "        vertical-align: top;\n",
       "    }\n",
       "\n",
       "    .dataframe thead th {\n",
       "        text-align: right;\n",
       "    }\n",
       "</style>\n",
       "<table border=\"1\" class=\"dataframe\">\n",
       "  <thead>\n",
       "    <tr style=\"text-align: right;\">\n",
       "      <th></th>\n",
       "      <th>ShotType</th>\n",
       "      <th>Competition</th>\n",
       "      <th>PlayerType</th>\n",
       "      <th>Transition</th>\n",
       "      <th>TwoLegged</th>\n",
       "      <th>Movement</th>\n",
       "      <th>Angle</th>\n",
       "      <th>Distance</th>\n",
       "    </tr>\n",
       "  </thead>\n",
       "  <tbody>\n",
       "    <tr>\n",
       "      <th>0</th>\n",
       "      <td>above head</td>\n",
       "      <td>U14</td>\n",
       "      <td>F</td>\n",
       "      <td>1</td>\n",
       "      <td>1</td>\n",
       "      <td>no</td>\n",
       "      <td>73.83</td>\n",
       "      <td>0.73</td>\n",
       "    </tr>\n",
       "    <tr>\n",
       "      <th>1</th>\n",
       "      <td>layup</td>\n",
       "      <td>U14</td>\n",
       "      <td>F</td>\n",
       "      <td>0</td>\n",
       "      <td>1</td>\n",
       "      <td>no</td>\n",
       "      <td>28.13</td>\n",
       "      <td>1.02</td>\n",
       "    </tr>\n",
       "    <tr>\n",
       "      <th>2</th>\n",
       "      <td>above head</td>\n",
       "      <td>U14</td>\n",
       "      <td>F</td>\n",
       "      <td>0</td>\n",
       "      <td>1</td>\n",
       "      <td>no</td>\n",
       "      <td>51.88</td>\n",
       "      <td>7.22</td>\n",
       "    </tr>\n",
       "    <tr>\n",
       "      <th>3</th>\n",
       "      <td>above head</td>\n",
       "      <td>U14</td>\n",
       "      <td>F</td>\n",
       "      <td>1</td>\n",
       "      <td>1</td>\n",
       "      <td>no</td>\n",
       "      <td>80.84</td>\n",
       "      <td>3.64</td>\n",
       "    </tr>\n",
       "    <tr>\n",
       "      <th>4</th>\n",
       "      <td>above head</td>\n",
       "      <td>U14</td>\n",
       "      <td>F</td>\n",
       "      <td>0</td>\n",
       "      <td>1</td>\n",
       "      <td>no</td>\n",
       "      <td>30.89</td>\n",
       "      <td>7.20</td>\n",
       "    </tr>\n",
       "  </tbody>\n",
       "</table>\n",
       "</div>"
      ]
     },
     "execution_count": 2,
     "metadata": {},
     "output_type": "execute_result"
    }
   ],
   "execution_count": 2
  },
  {
   "metadata": {
    "ExecuteTime": {
     "end_time": "2025-03-22T10:05:51.426248Z",
     "start_time": "2025-03-22T10:05:51.410199Z"
    }
   },
   "cell_type": "code",
   "source": [
    "null_counts = df.isnull().sum()\n",
    "print(null_counts)"
   ],
   "id": "644d3b341d1aeb06",
   "outputs": [
    {
     "name": "stdout",
     "output_type": "stream",
     "text": [
      "ShotType       0\n",
      "Competition    0\n",
      "PlayerType     0\n",
      "Transition     0\n",
      "TwoLegged      0\n",
      "Movement       0\n",
      "Angle          0\n",
      "Distance       0\n",
      "dtype: int64\n"
     ]
    }
   ],
   "execution_count": 3
  },
  {
   "metadata": {
    "ExecuteTime": {
     "end_time": "2025-03-22T10:05:51.596898Z",
     "start_time": "2025-03-22T10:05:51.584448Z"
    }
   },
   "cell_type": "code",
   "source": [
    "categorical_columns = df.select_dtypes(include=['object']).columns\n",
    "unique_classes = df[categorical_columns].nunique()\n",
    "print(\"Number of unique classes in each categorical column:\")\n",
    "print(unique_classes)"
   ],
   "id": "db7cdfb4c89626bc",
   "outputs": [
    {
     "name": "stdout",
     "output_type": "stream",
     "text": [
      "Number of unique classes in each categorical column:\n",
      "ShotType       6\n",
      "Competition    5\n",
      "PlayerType     3\n",
      "Movement       3\n",
      "dtype: int64\n"
     ]
    }
   ],
   "execution_count": 4
  },
  {
   "metadata": {
    "ExecuteTime": {
     "end_time": "2025-03-22T10:05:51.680963Z",
     "start_time": "2025-03-22T10:05:51.664479Z"
    }
   },
   "cell_type": "code",
   "source": [
    "categorical_columns = [\"Competition\", \"PlayerType\", \"Movement\"]\n",
    "df_encoded = pd.get_dummies(df, columns=categorical_columns, drop_first=True)"
   ],
   "id": "6b97d4d880b3bc37",
   "outputs": [],
   "execution_count": 5
  },
  {
   "metadata": {
    "ExecuteTime": {
     "end_time": "2025-03-22T10:05:51.751934Z",
     "start_time": "2025-03-22T10:05:51.730053Z"
    }
   },
   "cell_type": "code",
   "source": [
    "y = df_encoded['ShotType']\n",
    "X = df_encoded.drop(columns=['ShotType'])\n",
    "X_train, X_test, y_train, y_test = train_test_split(X, y, test_size=0.3, random_state=42)"
   ],
   "id": "76c24758986d8fa0",
   "outputs": [],
   "execution_count": 6
  },
  {
   "metadata": {},
   "cell_type": "markdown",
   "source": "### Helper functions",
   "id": "4948694a366afcd6"
  },
  {
   "metadata": {
    "ExecuteTime": {
     "end_time": "2025-03-22T10:05:51.823356Z",
     "start_time": "2025-03-22T10:05:51.814372Z"
    }
   },
   "cell_type": "code",
   "source": [
    "def log_loss(y_true, y_pred):\n",
    "    \"\"\"\n",
    "    Compute the log loss (logarithmic loss) for multiclass classification.\n",
    "\n",
    "    Parameters:\n",
    "    - y_true: True labels (integers representing classes).\n",
    "    - y_pred: Predicted probabilities for each class (2D array).\n",
    "\n",
    "    Returns:\n",
    "    - log_loss: The computed log loss.\n",
    "    \"\"\"\n",
    "    # clip predicted probabilities to avoid log(0) or log(1)\n",
    "    y_pred = np.clip(y_pred, 1e-10, 1 - 1e-10)\n",
    "    \n",
    "    # convert y_true to one-hot encoding\n",
    "    y_true_one_hot = np.eye(y_pred.shape[1])[y_true]\n",
    "    \n",
    "    loss = -np.mean(np.sum(y_true_one_hot * np.log(y_pred), axis=1))\n",
    "    \n",
    "    return loss"
   ],
   "id": "400f09adff22281c",
   "outputs": [],
   "execution_count": 7
  },
  {
   "metadata": {
    "ExecuteTime": {
     "end_time": "2025-03-22T10:05:51.835547Z",
     "start_time": "2025-03-22T10:05:51.827401Z"
    }
   },
   "cell_type": "code",
   "source": [
    "def accuracy_score(y_true, y_pred):\n",
    "    \"\"\"\n",
    "    Compute the accuracy score for classification.\n",
    "\n",
    "    Parameters:\n",
    "    - y_true: True labels.\n",
    "    - y_pred: Predicted labels.\n",
    "\n",
    "    Returns:\n",
    "    - accuracy: The computed accuracy score.\n",
    "    \"\"\"\n",
    "    correct = np.sum(y_true == y_pred)\n",
    "    \n",
    "    accuracy = correct / len(y_true)\n",
    "    \n",
    "    return accuracy"
   ],
   "id": "c955c2267124b1cd",
   "outputs": [],
   "execution_count": 8
  },
  {
   "metadata": {},
   "cell_type": "markdown",
   "source": "## Comparison of Three Machine Learning Models",
   "id": "e15dcebd59863c8d"
  },
  {
   "metadata": {
    "ExecuteTime": {
     "end_time": "2025-03-22T10:05:51.885449Z",
     "start_time": "2025-03-22T10:05:51.870068Z"
    }
   },
   "cell_type": "code",
   "source": [
    "# converting the output string labels to integers \n",
    "label_encoder = LabelEncoder()\n",
    "y_train_encoded = label_encoder.fit_transform(y_train)\n",
    "y_test_encoded = label_encoder.transform(y_test)"
   ],
   "id": "1ad3d99ac1229000",
   "outputs": [],
   "execution_count": 9
  },
  {
   "metadata": {},
   "cell_type": "markdown",
   "source": [
    "### 1. Baseline model\n",
    "Learns and Predicts the Relative Frequencies of Classes"
   ],
   "id": "a210aa3bedb1e2f2"
  },
  {
   "metadata": {
    "ExecuteTime": {
     "end_time": "2025-03-22T10:05:51.926555Z",
     "start_time": "2025-03-22T10:05:51.910964Z"
    }
   },
   "cell_type": "code",
   "source": [
    "baseline_model = DummyClassifier(strategy=\"prior\")\n",
    "baseline_model.fit(X_train, y_train_encoded)\n",
    "\n",
    "y_pred_baseline = baseline_model.predict(X_test)\n",
    "y_pred_proba_baseline = baseline_model.predict_proba(X_test)\n",
    "\n",
    "baseline_accuracy = accuracy_score(y_test_encoded, y_pred_baseline)\n",
    "baseline_log_score = log_loss(y_test_encoded, y_pred_proba_baseline)\n",
    "\n",
    "print(f\"Accuracy: {baseline_accuracy}\")\n",
    "print(f\"Log Loss: {baseline_log_score}\")"
   ],
   "id": "53b56475cc2e7d98",
   "outputs": [
    {
     "name": "stdout",
     "output_type": "stream",
     "text": [
      "Accuracy: 0.600132625994695\n",
      "Log Loss: 1.1684321730757263\n"
     ]
    }
   ],
   "execution_count": 10
  },
  {
   "metadata": {},
   "cell_type": "markdown",
   "source": "### 2. Logistic Regression",
   "id": "2f4f119544543685"
  },
  {
   "metadata": {
    "ExecuteTime": {
     "end_time": "2025-03-22T10:05:54.505474Z",
     "start_time": "2025-03-22T10:05:51.971224Z"
    }
   },
   "cell_type": "code",
   "source": [
    "log_reg = LogisticRegression(max_iter=1500)  \n",
    "log_reg.fit(X_train, y_train_encoded)\n",
    "\n",
    "y_pred_lr = log_reg.predict(X_test)\n",
    "y_pred_proba_lr = log_reg.predict_proba(X_test)\n",
    "\n",
    "lr_accuracy = accuracy_score(y_test_encoded, y_pred_lr)\n",
    "lr_log_score = log_loss(y_test_encoded, y_pred_proba_lr)\n",
    "\n",
    "print(f\"Accuracy: {lr_accuracy}\")\n",
    "print(f\"Log Loss: {lr_log_score}\")"
   ],
   "id": "e23f9deb2433477a",
   "outputs": [
    {
     "name": "stdout",
     "output_type": "stream",
     "text": [
      "Accuracy: 0.7427055702917772\n",
      "Log Loss: 0.6514255329754493\n"
     ]
    }
   ],
   "execution_count": 11
  },
  {
   "metadata": {},
   "cell_type": "markdown",
   "source": "### 3. Random Forest",
   "id": "7fb9f9309f50fecb"
  },
  {
   "metadata": {
    "ExecuteTime": {
     "end_time": "2025-03-22T10:05:54.554910Z",
     "start_time": "2025-03-22T10:05:54.539051Z"
    }
   },
   "cell_type": "code",
   "source": [
    "model = RandomForestClassifier(random_state=42)\n",
    "param_grid = {\n",
    "    'n_estimators': [10, 50, 100],\n",
    "    'max_features': ['sqrt', 'log2'],\n",
    "    'max_depth': [10, 20],\n",
    "    'min_samples_split': [2, 5, 10],\n",
    "    'min_samples_leaf': [1, 2, 4]\n",
    "}\n",
    "\n",
    "# to generate all combinations of hyperparameters\n",
    "keys, values = zip(*param_grid.items())\n",
    "param_combinations = [dict(zip(keys, v)) for v in product(*values)]\n"
   ],
   "id": "d5fd604e696a63e",
   "outputs": [],
   "execution_count": 12
  },
  {
   "metadata": {},
   "cell_type": "markdown",
   "source": "#### Approach 1: Optimizing training fold performance",
   "id": "a06b11d6e3300970"
  },
  {
   "metadata": {
    "ExecuteTime": {
     "end_time": "2025-03-22T10:05:54.603126Z",
     "start_time": "2025-03-22T10:05:54.588192Z"
    }
   },
   "cell_type": "code",
   "source": [
    "def flat_cv(X, y, param_grid, n_splits=5):\n",
    "    cv = KFold(n_splits=n_splits, shuffle=True, random_state=42)\n",
    "    \n",
    "    best_params = None\n",
    "    log_loss_min_avg = float('inf')\n",
    "    \n",
    "    for params in param_grid:\n",
    "        acc_scores = []\n",
    "        log_loss_scores = []\n",
    "        \n",
    "        for train_idx, test_idx in cv.split(X):\n",
    "            X_train_cv, X_test_cv = X.iloc[train_idx], X.iloc[test_idx]\n",
    "            y_train_cv, y_test_cv = y[train_idx], y[test_idx]\n",
    "            \n",
    "            model = RandomForestClassifier(**params, random_state=42)\n",
    "            model.fit(X_train_cv, y_train_cv)\n",
    "            \n",
    "            y_pred_proba = model.predict_proba(X_test_cv)\n",
    "            y_pred = model.predict(X_test_cv)\n",
    "            \n",
    "            acc_scores.append(accuracy_score(y_test_cv, y_pred))\n",
    "            log_loss_scores.append(log_loss(y_test_cv, y_pred_proba))\n",
    "        \n",
    "        acc_avg = np.mean(acc_scores)\n",
    "        log_loss_avg = np.mean(log_loss_scores)\n",
    "        acc_std = np.std(acc_scores)\n",
    "        log_loss_std = np.std(log_loss_scores)\n",
    "        \n",
    "        # best model check based on log loss\n",
    "        if log_loss_avg < log_loss_min_avg:\n",
    "            log_loss_min_avg = log_loss_avg\n",
    "            acc_max = acc_avg\n",
    "            best_params = params\n",
    "            best_acc_std = acc_std\n",
    "            best_log_loss_std = log_loss_std\n",
    "    \n",
    "    log_loss_interval = (log_loss_min_avg - best_log_loss_std, log_loss_min_avg + best_log_loss_std)\n",
    "    \n",
    "    return acc_max, log_loss_min_avg, best_params, best_acc_std, best_log_loss_std, log_loss_interval"
   ],
   "id": "d030c19023979e8e",
   "outputs": [],
   "execution_count": 13
  },
  {
   "metadata": {
    "ExecuteTime": {
     "end_time": "2025-03-22T10:07:36.164061Z",
     "start_time": "2025-03-22T10:05:54.638535Z"
    }
   },
   "cell_type": "code",
   "source": [
    "best_accuracy, log_loss_min_avg, best_hyperparams, best_acc_std, best_log_loss_std, log_loss_interval = flat_cv(X_train, y_train_encoded, param_combinations)\n",
    "print(f\"Best Accuracy: {best_accuracy:.2f}\")\n",
    "print(f\"Best Log Loss: {log_loss_min_avg:.2f}\")\n",
    "print(f\"Best Hyperparameters: {best_hyperparams}\")\n",
    "print(f\"Accuracy approximation: {best_accuracy:.2f} ± {best_acc_std:.2f}\")\n",
    "print(f\"Log Loss approximation: {log_loss_min_avg:.2f} ± {best_log_loss_std:.2f}\")\n",
    "\n",
    "# train the final model with the best hyperparameters on the entire training set\n",
    "final_model = RandomForestClassifier(**best_hyperparams)\n",
    "final_model.fit(X_train, y_train_encoded)\n",
    "\n",
    "# evaluate on the test set\n",
    "y_pred_rf1 = final_model.predict(X_test)\n",
    "y_pred_proba_rf1 = final_model.predict_proba(X_test)\n",
    "rf1_test_accuracy = accuracy_score(y_test_encoded, y_pred_rf1)\n",
    "rf1_test_log_loss = log_loss(y_test_encoded, y_pred_proba_rf1)\n",
    "\n",
    "print(f\"Test Accuracy: {rf1_test_accuracy:.2f}\")\n",
    "print(f\"Test Log Loss: {rf1_test_log_loss:.2f}\")"
   ],
   "id": "d5d80cd2fe269ea0",
   "outputs": [
    {
     "name": "stdout",
     "output_type": "stream",
     "text": [
      "Best Accuracy: 0.75\n",
      "Best Log Loss: 0.64\n",
      "Best Hyperparameters: {'n_estimators': 100, 'max_features': 'sqrt', 'max_depth': 10, 'min_samples_split': 2, 'min_samples_leaf': 4}\n",
      "Accuracy approximation: 0.75 ± 0.02\n",
      "Log Loss approximation: 0.64 ± 0.02\n",
      "Test Accuracy: 0.78\n",
      "Test Log Loss: 0.60\n"
     ]
    }
   ],
   "execution_count": 14
  },
  {
   "metadata": {
    "ExecuteTime": {
     "end_time": "2025-03-22T10:07:36.205795Z",
     "start_time": "2025-03-22T10:07:36.197515Z"
    }
   },
   "cell_type": "code",
   "source": [
    "confidence = 0.95\n",
    "z_value = norm.ppf(1 - (1 - confidence) / 2)  # For 95% CI, z = 1.96\n",
    "print(f\"z = {z_value:.2f}\")\n",
    "\n",
    "# calculate margin of error for log loss\n",
    "log_loss_margin_of_error = z_value * (best_log_loss_std / np.sqrt(5))\n",
    "log_loss_CI = (log_loss_min_avg - log_loss_margin_of_error, log_loss_min_avg + log_loss_margin_of_error)\n",
    "print(f\"95% Confidence Interval for Log Loss: ({log_loss_CI[0]:.2f}, {log_loss_CI[1]:.2f})\")\n",
    "\n",
    "# calculate margin of error for accuracy\n",
    "accuracy_margin_of_error = z_value * (best_acc_std / np.sqrt(5))\n",
    "accuracy_CI = (best_accuracy - accuracy_margin_of_error, best_accuracy + accuracy_margin_of_error)\n",
    "print(f\"95% Confidence Interval for Accuracy: ({accuracy_CI[0]:.2f}, {accuracy_CI[1]:.2f})\")"
   ],
   "id": "7acff3dfe472f8c7",
   "outputs": [
    {
     "name": "stdout",
     "output_type": "stream",
     "text": [
      "z = 1.96\n",
      "95% Confidence Interval for Log Loss: (0.63, 0.66)\n",
      "95% Confidence Interval for Accuracy: (0.74, 0.77)\n"
     ]
    }
   ],
   "execution_count": 15
  },
  {
   "metadata": {},
   "cell_type": "markdown",
   "source": "#### Approach 2: Nested cross-validation",
   "id": "9037be873e8fda5e"
  },
  {
   "metadata": {
    "ExecuteTime": {
     "end_time": "2025-03-22T10:07:36.247697Z",
     "start_time": "2025-03-22T10:07:36.231201Z"
    }
   },
   "cell_type": "code",
   "source": [
    "def nested_cv(X, y, param_grid, outer_splits=5, inner_splits=5):\n",
    "    cv_outer = KFold(n_splits=outer_splits, shuffle=True, random_state=42)\n",
    "    \n",
    "    acc_scores = []\n",
    "    log_loss_scores = []\n",
    "    best_params_final = None  \n",
    "    best_log_loss_final = float('inf') \n",
    "    \n",
    "    outer_fold = 0\n",
    "    for tr_outer_idx, te_outer_idx in cv_outer.split(X):\n",
    "        outer_fold += 1\n",
    "        print(f\"Outer fold {outer_fold}/{outer_splits}\")\n",
    "        \n",
    "        X_tr_outer, X_te_outer = X.iloc[tr_outer_idx], X.iloc[te_outer_idx]\n",
    "        y_tr_outer, y_te_outer = y[tr_outer_idx], y[te_outer_idx]\n",
    "        \n",
    "        log_loss_min = float('inf')\n",
    "        best_params = None \n",
    "        \n",
    "        # inner cross-validation for hyperparameter tuning\n",
    "        cv_inner = KFold(n_splits=inner_splits, shuffle=True, random_state=42)\n",
    "        \n",
    "        for params in param_grid:\n",
    "            log_loss_total = []\n",
    "            acc_total = []\n",
    "            \n",
    "            for tr_inner_idx, te_inner_idx in cv_inner.split(X_tr_outer):\n",
    "                X_tr_inner, X_te_inner = X_tr_outer.iloc[tr_inner_idx], X_tr_outer.iloc[te_inner_idx]\n",
    "                y_tr_inner, y_te_inner = y_tr_outer[tr_inner_idx], y_tr_outer[te_inner_idx]\n",
    "                \n",
    "                model = RandomForestClassifier(**params, random_state=42)\n",
    "                model.fit(X_tr_inner, y_tr_inner)\n",
    "                \n",
    "                y_pred_proba = model.predict_proba(X_te_inner)\n",
    "                y_pred = model.predict(X_te_inner)\n",
    "                \n",
    "                acc_total.append(accuracy_score(y_te_inner, y_pred))\n",
    "                log_loss_total.append(log_loss(y_te_inner, y_pred_proba))\n",
    "            \n",
    "            acc_avg = np.mean(acc_total)\n",
    "            log_loss_avg = np.mean(log_loss_total)\n",
    "            \n",
    "            # select best parameters based on log loss\n",
    "            if log_loss_avg < log_loss_min:\n",
    "                log_loss_min = log_loss_avg\n",
    "                best_params = params\n",
    "        \n",
    "        # track the best parameters across all outer folds based on log loss\n",
    "        if log_loss_min < best_log_loss_final:\n",
    "            best_log_loss_final = log_loss_min\n",
    "            best_params_final = best_params\n",
    "        \n",
    "        # train the best model on the full outer training set\n",
    "        best_model = RandomForestClassifier(**best_params, random_state=42)\n",
    "        best_model.fit(X_tr_outer, y_tr_outer)\n",
    "        \n",
    "        # evaluate on the outer test set\n",
    "        y_pred_proba = best_model.predict_proba(X_te_outer)\n",
    "        y_pred = best_model.predict(X_te_outer)\n",
    "        \n",
    "        acc_scores.append(accuracy_score(y_te_outer, y_pred))\n",
    "        log_loss_scores.append(log_loss(y_te_outer, y_pred_proba))\n",
    "    \n",
    "    # compute final accuracy and log loss mean\n",
    "    acc_final_avg = np.mean(acc_scores)\n",
    "    log_loss_final_avg = np.mean(log_loss_scores)\n",
    "    \n",
    "    # compute standard deviation\n",
    "    best_acc_std = np.std(acc_scores, ddof=1)  # ddof=1 for sample std\n",
    "    best_log_loss_std = np.std(log_loss_scores, ddof=1)\n",
    "    \n",
    "    # compute confidence interval for log loss\n",
    "    log_loss_interval = (log_loss_final_avg - best_log_loss_std, log_loss_final_avg + best_log_loss_std)\n",
    "    \n",
    "    return acc_final_avg, log_loss_final_avg, best_params_final, best_acc_std, best_log_loss_std, log_loss_interval"
   ],
   "id": "60724825b09421aa",
   "outputs": [],
   "execution_count": 16
  },
  {
   "metadata": {
    "ExecuteTime": {
     "end_time": "2025-03-22T10:16:07.030083Z",
     "start_time": "2025-03-22T10:07:36.281099Z"
    }
   },
   "cell_type": "code",
   "source": [
    "best_accuracy2, best_log_loss2, best_hyperparams2, best_acc_std2, best_log_loss_std2, log_loss_interval2 = nested_cv(X_train, y_train_encoded, param_combinations)\n",
    "print(\"-----------------------------------------------\")\n",
    "print(\"Nested Cross-Validation Results\")\n",
    "print(f\"Best Accuracy: {best_accuracy2}\")\n",
    "print(f\"Best Log Loss: {best_log_loss2}\")\n",
    "print(f\"Best Hyperparameters: {best_hyperparams2}\")\n",
    "print(f\"Accuracy approximation: {best_accuracy2:.2f} ± {best_acc_std2:.2f}\")\n",
    "print(f\"Log Loss approximation: {best_log_loss2:.2f} ± {best_log_loss_std2:.2f}\")\n",
    "\n",
    "# train the final model with the best hyperparameters on the entire training set\n",
    "rf2 = RandomForestClassifier(**best_hyperparams2)\n",
    "rf2.fit(X_train, y_train_encoded)\n",
    "\n",
    "# evaluate on the test set\n",
    "y_pred_rf2 = rf2.predict(X_test)\n",
    "y_pred_proba_rf2 = rf2.predict_proba(X_test)\n",
    "rf2_test_accuracy = accuracy_score(y_test_encoded, y_pred_rf2)\n",
    "rf2_test_log_loss = log_loss(y_test_encoded, y_pred_proba_rf2)\n",
    "\n",
    "print(f\"Test Accuracy: {rf2_test_accuracy}\")\n",
    "print(f\"Test Log Loss: {rf2_test_log_loss}\")"
   ],
   "id": "b9e65288895968b6",
   "outputs": [
    {
     "name": "stdout",
     "output_type": "stream",
     "text": [
      "Outer fold 1/5\n",
      "Outer fold 2/5\n",
      "Outer fold 3/5\n",
      "Outer fold 4/5\n",
      "Outer fold 5/5\n",
      "-----------------------------------------------\n",
      "Nested Cross-Validation Results\n",
      "Best Accuracy: 0.7539877796456744\n",
      "Best Log Loss: 0.6424388264080176\n",
      "Best Hyperparameters: {'n_estimators': 100, 'max_features': 'sqrt', 'max_depth': 10, 'min_samples_split': 10, 'min_samples_leaf': 2}\n",
      "Accuracy approximation: 0.75 ± 0.02\n",
      "Log Loss approximation: 0.64 ± 0.02\n",
      "Test Accuracy: 0.7765251989389921\n",
      "Test Log Loss: 0.601927992098445\n"
     ]
    }
   ],
   "execution_count": 17
  },
  {
   "metadata": {
    "ExecuteTime": {
     "end_time": "2025-03-22T10:24:06.018719Z",
     "start_time": "2025-03-22T10:24:05.998059Z"
    }
   },
   "cell_type": "code",
   "source": [
    "confidence = 0.95\n",
    "z_value = norm.ppf(1 - (1 - confidence) / 2)  # For 95% CI, z = 1.96\n",
    "print(f\"z = {z_value:.2f}\")\n",
    "\n",
    "# calculate margin of error for log loss\n",
    "log_loss_margin_of_error = z_value * (best_log_loss_std2 / np.sqrt(5))\n",
    "log_loss_CI = (best_log_loss2 - log_loss_margin_of_error, best_log_loss2 + log_loss_margin_of_error)\n",
    "print(f\"95% Confidence Interval for Log Loss: ({log_loss_CI[0]:.2f}, {log_loss_CI[1]:.2f})\")\n",
    "\n",
    "# calculate margin of error for accuracy\n",
    "accuracy_margin_of_error = z_value * (best_acc_std2 / np.sqrt(5))\n",
    "accuracy_CI = (best_accuracy2 - accuracy_margin_of_error, best_accuracy2 + accuracy_margin_of_error)\n",
    "print(f\"95% Confidence Interval for Accuracy: ({accuracy_CI[0]:.2f}, {accuracy_CI[1]:.2f})\")"
   ],
   "id": "983a3e4cfe608da2",
   "outputs": [
    {
     "name": "stdout",
     "output_type": "stream",
     "text": [
      "z = 1.96\n",
      "95% Confidence Interval for Log Loss: (0.62, 0.66)\n",
      "95% Confidence Interval for Accuracy: (0.74, 0.77)\n"
     ]
    }
   ],
   "execution_count": 30
  },
  {
   "metadata": {},
   "cell_type": "markdown",
   "source": "## Analysis of results",
   "id": "d3c715106ab8e384"
  },
  {
   "metadata": {
    "ExecuteTime": {
     "end_time": "2025-03-22T10:18:55.549142Z",
     "start_time": "2025-03-22T10:18:55.295683Z"
    }
   },
   "cell_type": "code",
   "source": [
    "models = ['Baseline', 'LR', 'RF (Flat CV)', 'RF (Nested CV)']\n",
    "accuracy = [baseline_accuracy, lr_accuracy, rf1_test_accuracy, rf2_test_accuracy]\n",
    "log_loss = [min(score, 2.5) for score in [baseline_log_score, lr_log_score, rf1_test_log_loss, rf2_test_log_loss]]\n",
    "\n",
    "x = np.arange(len(models))\n",
    "width = 0.35\n",
    "\n",
    "fig, ax = plt.subplots()\n",
    "rects1 = ax.bar(x - width/2, accuracy, width, label='Accuracy', color='lightblue')\n",
    "rects2 = ax.bar(x + width/2, log_loss, width, label='Log Loss', color='lightpink')\n",
    "\n",
    "ax.set_xlabel('Models')\n",
    "ax.set_ylabel('Score')\n",
    "ax.set_title('Model Comparison: Accuracy and Log Loss')\n",
    "ax.set_xticks(x)\n",
    "ax.set_xticklabels(models, ha='center')\n",
    "ax.legend()\n",
    "\n",
    "# set y-axis limit to 3 for better visualization\n",
    "ax.set_ylim(0, 1.3)\n",
    "\n",
    "def autolabel(rects, original_values):\n",
    "    for rect, original_value in zip(rects, original_values):\n",
    "        height = rect.get_height()\n",
    "        label = '2.5+' if original_value > 2 else f'{round(height, 2)}'\n",
    "        ax.annotate(label,\n",
    "                    xy=(rect.get_x() + rect.get_width() / 2, height),\n",
    "                    xytext=(0, 3),  # 3 points vertical offset\n",
    "                    textcoords=\"offset points\",\n",
    "                    ha='center', va='bottom')\n",
    "\n",
    "autolabel(rects1, accuracy)\n",
    "autolabel(rects2, [baseline_log_score, lr_log_score, rf1_test_log_loss, rf2_test_log_loss])\n",
    "\n",
    "plt.savefig('visualizations/model_comparison.png')\n",
    "\n",
    "plt.show()"
   ],
   "id": "ee577b1a2dc4fb7b",
   "outputs": [
    {
     "data": {
      "text/plain": [
       "<Figure size 640x480 with 1 Axes>"
      ],
      "image/png": "[encoded data removed]"
     },
     "metadata": {},
     "output_type": "display_data"
    }
   ],
   "execution_count": 23
  },
  {
   "metadata": {
    "ExecuteTime": {
     "end_time": "2025-03-22T10:23:25.735249Z",
     "start_time": "2025-03-22T10:23:25.710694Z"
    }
   },
   "cell_type": "code",
   "source": [
    "data_to_save = {\n",
    "    'y_true': y_test_encoded,  \n",
    "    'y_pred_baseline': y_pred_baseline,  # (baseline) model predictions\n",
    "    'y_pred_proba_baseline': y_pred_proba_baseline,  # (baseline) model probabilities\n",
    "    'errors_baseline': (y_pred_baseline != y_test_encoded).astype(int),  # (baseline) model errors\n",
    "    'y_pred_lr': y_pred_lr, \n",
    "    'y_pred_proba_lr': y_pred_proba_lr, \n",
    "    'errors_lr': (y_pred_lr != y_test_encoded).astype(int),  \n",
    "    'y_pred_rf1': y_pred_rf1,  \n",
    "    'y_pred_proba_rf1': y_pred_proba_rf1,\n",
    "    'errors_rf1': (y_pred_rf1 != y_test_encoded).astype(int), \n",
    "    'y_pred_rf2': y_pred_rf2, \n",
    "    'y_pred_proba_rf2': y_pred_proba_rf2,  \n",
    "    'errors_rf2': (y_pred_rf2 != y_test_encoded).astype(int),\n",
    "    'test_indices': X_test.index\n",
    "}\n",
    "\n",
    "with open('all_model_results.pkl', 'wb') as f:\n",
    "    pickle.dump(data_to_save, f)\n",
    "\n",
    "print(\"All model results saved to 'all_model_results.pkl'.\")"
   ],
   "id": "1eaa34e55dbc7e9a",
   "outputs": [
    {
     "name": "stdout",
     "output_type": "stream",
     "text": [
      "All model results saved to 'all_model_results.pkl'.\n"
     ]
    }
   ],
   "execution_count": 27
  }
 ],
 "metadata": {
  "kernelspec": {
   "display_name": "Python 3",
   "language": "python",
   "name": "python3"
  },
  "language_info": {
   "codemirror_mode": {
    "name": "ipython",
    "version": 2
   },
   "file_extension": ".py",
   "mimetype": "text/x-python",
   "name": "python",
   "nbconvert_exporter": "python",
   "pygments_lexer": "ipython2",
   "version": "2.7.6"
  }
 },
 "nbformat": 4,
 "nbformat_minor": 5
}
